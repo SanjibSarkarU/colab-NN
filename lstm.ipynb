{
  "nbformat": 4,
  "nbformat_minor": 0,
  "metadata": {
    "colab": {
      "name": "lstm.ipynb",
      "provenance": [],
      "collapsed_sections": [],
      "authorship_tag": "ABX9TyMkGlT7MJS8W5WJgnH5k3r+",
      "include_colab_link": true
    },
    "kernelspec": {
      "name": "python3",
      "display_name": "Python 3"
    },
    "language_info": {
      "name": "python"
    }
  },
  "cells": [
    {
      "cell_type": "markdown",
      "metadata": {
        "id": "view-in-github",
        "colab_type": "text"
      },
      "source": [
        "<a href=\"https://colab.research.google.com/github/SanjibSarkarU/colab-NN/blob/main/lstm.ipynb\" target=\"_parent\"><img src=\"https://colab.research.google.com/assets/colab-badge.svg\" alt=\"Open In Colab\"/></a>"
      ]
    },
    {
      "cell_type": "code",
      "source": [
        "!pip install tensorflow-gpu"
      ],
      "metadata": {
        "colab": {
          "base_uri": "https://localhost:8080/"
        },
        "id": "mI9_CNCMW5Q3",
        "outputId": "1e341d0c-0b4f-4a5f-a301-65f92cefa99a"
      },
      "execution_count": 1,
      "outputs": [
        {
          "output_type": "stream",
          "name": "stdout",
          "text": [
            "Collecting tensorflow-gpu\n",
            "  Downloading tensorflow_gpu-2.8.0-cp37-cp37m-manylinux2010_x86_64.whl (497.5 MB)\n",
            "\u001b[K     |████████████████████████████████| 497.5 MB 28 kB/s \n",
            "\u001b[?25hRequirement already satisfied: h5py>=2.9.0 in /usr/local/lib/python3.7/dist-packages (from tensorflow-gpu) (3.1.0)\n",
            "Requirement already satisfied: absl-py>=0.4.0 in /usr/local/lib/python3.7/dist-packages (from tensorflow-gpu) (1.0.0)\n",
            "Collecting tf-estimator-nightly==2.8.0.dev2021122109\n",
            "  Downloading tf_estimator_nightly-2.8.0.dev2021122109-py2.py3-none-any.whl (462 kB)\n",
            "\u001b[K     |████████████████████████████████| 462 kB 64.6 MB/s \n",
            "\u001b[?25hRequirement already satisfied: grpcio<2.0,>=1.24.3 in /usr/local/lib/python3.7/dist-packages (from tensorflow-gpu) (1.44.0)\n",
            "Requirement already satisfied: protobuf>=3.9.2 in /usr/local/lib/python3.7/dist-packages (from tensorflow-gpu) (3.17.3)\n",
            "Requirement already satisfied: wrapt>=1.11.0 in /usr/local/lib/python3.7/dist-packages (from tensorflow-gpu) (1.14.0)\n",
            "Requirement already satisfied: termcolor>=1.1.0 in /usr/local/lib/python3.7/dist-packages (from tensorflow-gpu) (1.1.0)\n",
            "Requirement already satisfied: numpy>=1.20 in /usr/local/lib/python3.7/dist-packages (from tensorflow-gpu) (1.21.5)\n",
            "Requirement already satisfied: tensorboard<2.9,>=2.8 in /usr/local/lib/python3.7/dist-packages (from tensorflow-gpu) (2.8.0)\n",
            "Requirement already satisfied: setuptools in /usr/local/lib/python3.7/dist-packages (from tensorflow-gpu) (57.4.0)\n",
            "Requirement already satisfied: gast>=0.2.1 in /usr/local/lib/python3.7/dist-packages (from tensorflow-gpu) (0.5.3)\n",
            "Requirement already satisfied: astunparse>=1.6.0 in /usr/local/lib/python3.7/dist-packages (from tensorflow-gpu) (1.6.3)\n",
            "Requirement already satisfied: opt-einsum>=2.3.2 in /usr/local/lib/python3.7/dist-packages (from tensorflow-gpu) (3.3.0)\n",
            "Requirement already satisfied: libclang>=9.0.1 in /usr/local/lib/python3.7/dist-packages (from tensorflow-gpu) (13.0.0)\n",
            "Requirement already satisfied: keras<2.9,>=2.8.0rc0 in /usr/local/lib/python3.7/dist-packages (from tensorflow-gpu) (2.8.0)\n",
            "Requirement already satisfied: tensorflow-io-gcs-filesystem>=0.23.1 in /usr/local/lib/python3.7/dist-packages (from tensorflow-gpu) (0.24.0)\n",
            "Requirement already satisfied: keras-preprocessing>=1.1.1 in /usr/local/lib/python3.7/dist-packages (from tensorflow-gpu) (1.1.2)\n",
            "Requirement already satisfied: flatbuffers>=1.12 in /usr/local/lib/python3.7/dist-packages (from tensorflow-gpu) (2.0)\n",
            "Requirement already satisfied: six>=1.12.0 in /usr/local/lib/python3.7/dist-packages (from tensorflow-gpu) (1.15.0)\n",
            "Requirement already satisfied: google-pasta>=0.1.1 in /usr/local/lib/python3.7/dist-packages (from tensorflow-gpu) (0.2.0)\n",
            "Requirement already satisfied: typing-extensions>=3.6.6 in /usr/local/lib/python3.7/dist-packages (from tensorflow-gpu) (3.10.0.2)\n",
            "Requirement already satisfied: wheel<1.0,>=0.23.0 in /usr/local/lib/python3.7/dist-packages (from astunparse>=1.6.0->tensorflow-gpu) (0.37.1)\n",
            "Requirement already satisfied: cached-property in /usr/local/lib/python3.7/dist-packages (from h5py>=2.9.0->tensorflow-gpu) (1.5.2)\n",
            "Requirement already satisfied: google-auth-oauthlib<0.5,>=0.4.1 in /usr/local/lib/python3.7/dist-packages (from tensorboard<2.9,>=2.8->tensorflow-gpu) (0.4.6)\n",
            "Requirement already satisfied: markdown>=2.6.8 in /usr/local/lib/python3.7/dist-packages (from tensorboard<2.9,>=2.8->tensorflow-gpu) (3.3.6)\n",
            "Requirement already satisfied: werkzeug>=0.11.15 in /usr/local/lib/python3.7/dist-packages (from tensorboard<2.9,>=2.8->tensorflow-gpu) (1.0.1)\n",
            "Requirement already satisfied: tensorboard-plugin-wit>=1.6.0 in /usr/local/lib/python3.7/dist-packages (from tensorboard<2.9,>=2.8->tensorflow-gpu) (1.8.1)\n",
            "Requirement already satisfied: tensorboard-data-server<0.7.0,>=0.6.0 in /usr/local/lib/python3.7/dist-packages (from tensorboard<2.9,>=2.8->tensorflow-gpu) (0.6.1)\n",
            "Requirement already satisfied: google-auth<3,>=1.6.3 in /usr/local/lib/python3.7/dist-packages (from tensorboard<2.9,>=2.8->tensorflow-gpu) (1.35.0)\n",
            "Requirement already satisfied: requests<3,>=2.21.0 in /usr/local/lib/python3.7/dist-packages (from tensorboard<2.9,>=2.8->tensorflow-gpu) (2.23.0)\n",
            "Requirement already satisfied: pyasn1-modules>=0.2.1 in /usr/local/lib/python3.7/dist-packages (from google-auth<3,>=1.6.3->tensorboard<2.9,>=2.8->tensorflow-gpu) (0.2.8)\n",
            "Requirement already satisfied: cachetools<5.0,>=2.0.0 in /usr/local/lib/python3.7/dist-packages (from google-auth<3,>=1.6.3->tensorboard<2.9,>=2.8->tensorflow-gpu) (4.2.4)\n",
            "Requirement already satisfied: rsa<5,>=3.1.4 in /usr/local/lib/python3.7/dist-packages (from google-auth<3,>=1.6.3->tensorboard<2.9,>=2.8->tensorflow-gpu) (4.8)\n",
            "Requirement already satisfied: requests-oauthlib>=0.7.0 in /usr/local/lib/python3.7/dist-packages (from google-auth-oauthlib<0.5,>=0.4.1->tensorboard<2.9,>=2.8->tensorflow-gpu) (1.3.1)\n",
            "Requirement already satisfied: importlib-metadata>=4.4 in /usr/local/lib/python3.7/dist-packages (from markdown>=2.6.8->tensorboard<2.9,>=2.8->tensorflow-gpu) (4.11.3)\n",
            "Requirement already satisfied: zipp>=0.5 in /usr/local/lib/python3.7/dist-packages (from importlib-metadata>=4.4->markdown>=2.6.8->tensorboard<2.9,>=2.8->tensorflow-gpu) (3.7.0)\n",
            "Requirement already satisfied: pyasn1<0.5.0,>=0.4.6 in /usr/local/lib/python3.7/dist-packages (from pyasn1-modules>=0.2.1->google-auth<3,>=1.6.3->tensorboard<2.9,>=2.8->tensorflow-gpu) (0.4.8)\n",
            "Requirement already satisfied: certifi>=2017.4.17 in /usr/local/lib/python3.7/dist-packages (from requests<3,>=2.21.0->tensorboard<2.9,>=2.8->tensorflow-gpu) (2021.10.8)\n",
            "Requirement already satisfied: chardet<4,>=3.0.2 in /usr/local/lib/python3.7/dist-packages (from requests<3,>=2.21.0->tensorboard<2.9,>=2.8->tensorflow-gpu) (3.0.4)\n",
            "Requirement already satisfied: urllib3!=1.25.0,!=1.25.1,<1.26,>=1.21.1 in /usr/local/lib/python3.7/dist-packages (from requests<3,>=2.21.0->tensorboard<2.9,>=2.8->tensorflow-gpu) (1.24.3)\n",
            "Requirement already satisfied: idna<3,>=2.5 in /usr/local/lib/python3.7/dist-packages (from requests<3,>=2.21.0->tensorboard<2.9,>=2.8->tensorflow-gpu) (2.10)\n",
            "Requirement already satisfied: oauthlib>=3.0.0 in /usr/local/lib/python3.7/dist-packages (from requests-oauthlib>=0.7.0->google-auth-oauthlib<0.5,>=0.4.1->tensorboard<2.9,>=2.8->tensorflow-gpu) (3.2.0)\n",
            "Installing collected packages: tf-estimator-nightly, tensorflow-gpu\n",
            "Successfully installed tensorflow-gpu-2.8.0 tf-estimator-nightly-2.8.0.dev2021122109\n"
          ]
        }
      ]
    },
    {
      "cell_type": "code",
      "source": [
        "import numpy as np\n",
        "import tensorflow as tf\n",
        "# from tensorflow.keras.models import Sequential\n",
        "import pandas as pd\n",
        "from matplotlib import pyplot as plt\n",
        "from keras.models import Sequential\n",
        "from keras.layers import Dense, LSTM, SimpleRNN\n",
        "from sklearn.preprocessing import MinMaxScaler\n",
        "from sklearn.metrics import mean_squared_error"
      ],
      "metadata": {
        "id": "3NzvErHZW--3"
      },
      "execution_count": 1,
      "outputs": []
    },
    {
      "cell_type": "code",
      "source": [
        "df = pd.read_csv('20220222_153859_hlc.csv', skiprows=1)\n",
        "df = df.rename(columns={\"Latitude (Deg N)\": 'lat', \"Longitude (Deg W)\": 'lng'}, errors=\"raise\")\n",
        "df = df.loc[(df['lat'] != 0)]"
      ],
      "metadata": {
        "id": "3UgPedKAYLjZ"
      },
      "execution_count": 2,
      "outputs": []
    },
    {
      "cell_type": "code",
      "source": [
        "# df.dtypes"
      ],
      "metadata": {
        "id": "xBc9fxfkYrBZ"
      },
      "execution_count": null,
      "outputs": []
    },
    {
      "cell_type": "code",
      "source": [
        "#  df.lat.plot()"
      ],
      "metadata": {
        "id": "v8x8Qb2vmhty"
      },
      "execution_count": null,
      "outputs": []
    },
    {
      "cell_type": "code",
      "source": [
        "start = 10500\n",
        "end = 13700\n",
        "series_time = df.Time[start:end].to_numpy()\n",
        "series_lat = df.lat[start:end].to_numpy()\n",
        "series_lng = df.lng[start:end].to_numpy()\n",
        "xaxis = np.array([i for i in range(len(series_lat))])"
      ],
      "metadata": {
        "id": "TOOzDjdwZdrZ"
      },
      "execution_count": 3,
      "outputs": []
    },
    {
      "cell_type": "code",
      "source": [
        "# type(series_lat)\n",
        "xaxis.shape\n"
      ],
      "metadata": {
        "colab": {
          "base_uri": "https://localhost:8080/"
        },
        "id": "GrDrGxsufAZ8",
        "outputId": "776f1527-a675-4e89-e9e7-238811604341"
      },
      "execution_count": 95,
      "outputs": [
        {
          "output_type": "execute_result",
          "data": {
            "text/plain": [
              "(3200,)"
            ]
          },
          "metadata": {},
          "execution_count": 95
        }
      ]
    },
    {
      "cell_type": "code",
      "source": [
        "series_lat"
      ],
      "metadata": {
        "id": "JMhm2VLaI6Cn"
      },
      "execution_count": null,
      "outputs": []
    },
    {
      "cell_type": "code",
      "source": [
        "def plot_dataset(xaxis, yaxis, xlabel= 'xaxis', ylabel= 'yaxis', color='r'):\n",
        "  plt.plot(xaxis, yaxis, color=color)\n",
        "  plt.xlabel(xlabel)\n",
        "  plt.ylabel(ylabel)"
      ],
      "metadata": {
        "id": "DNlPuBtbbBAC"
      },
      "execution_count": 4,
      "outputs": []
    },
    {
      "cell_type": "code",
      "source": [
        "def train_test_split(dataset, percentage):\n",
        "  train_size = int(len(dataset)*percentage)\n",
        "  test_seze = len(dataset) - train_size\n",
        "  train, test = dataset[0:train_size,:], dataset[train_size:len(dataset),:]\n",
        "  return train, test"
      ],
      "metadata": {
        "id": "SoUcS3J8gtQt"
      },
      "execution_count": 5,
      "outputs": []
    },
    {
      "cell_type": "code",
      "source": [
        "def windowed_dataset(series, window_size, batch_size, shuffle_buffer):\n",
        "    dataset = tf.data.Dataset.from_tensor_slices(series)\n",
        "    dataset = dataset.window(window_size + 1, shift=1, drop_remainder=True)\n",
        "    dataset = dataset.flat_map(lambda window: window.batch(window_size + 1))\n",
        "    dataset = dataset.shuffle(shuffle_buffer).map(lambda window: (window[:-1], window[-1:]))\n",
        "    dataset = dataset.batch(batch_size).prefetch(1)\n",
        "    return dataset"
      ],
      "metadata": {
        "id": "yKuU4LVDNTo7"
      },
      "execution_count": 6,
      "outputs": []
    },
    {
      "cell_type": "code",
      "source": [
        "plot_dataset(xaxis, series_lat)"
      ],
      "metadata": {
        "id": "zhoR9AHtZgya"
      },
      "execution_count": null,
      "outputs": []
    },
    {
      "cell_type": "code",
      "source": [
        "plot_dataset(xaxis, series_lng)"
      ],
      "metadata": {
        "id": "GFkGJ3v2c53h"
      },
      "execution_count": null,
      "outputs": []
    },
    {
      "cell_type": "code",
      "source": [
        "plot_dataset(series_lng, series_lat)"
      ],
      "metadata": {
        "id": "OKnIzmUcdvyt"
      },
      "execution_count": null,
      "outputs": []
    },
    {
      "cell_type": "code",
      "source": [
        "# reshape\n",
        "series_lat = np.reshape(series_lat,(len(series_lat),1))\n",
        "series_lng = np.reshape(series_lng,(len(series_lng),1))\n",
        "xaxis = np.reshape(xaxis,(len(xaxis),1))"
      ],
      "metadata": {
        "id": "Re4Kz7-xfUX0"
      },
      "execution_count": 7,
      "outputs": []
    },
    {
      "cell_type": "code",
      "source": [
        "# # Normalization is optional but recommended for neural network as certain \n",
        "# # activation functions are sensitive to magnitude of numbers. \n",
        "# # normalize the dataset\n",
        "# scaler = MinMaxScaler(feature_range=(0, 1)) #Also try QuantileTransformer"
      ],
      "metadata": {
        "id": "XDAJOpm0eX51"
      },
      "execution_count": 101,
      "outputs": []
    },
    {
      "cell_type": "code",
      "source": [
        "# series_lat = scaler.fit_transform(series_lat)\n",
        "# # series_lng = scaler.fit_transform(series_lng)"
      ],
      "metadata": {
        "id": "rvUsUriTF3Qd"
      },
      "execution_count": 114,
      "outputs": []
    },
    {
      "cell_type": "code",
      "source": [
        "# split into train and test sets\n",
        "train_lat, test_lat = train_test_split(series_lat, 0.7)\n",
        "train_lng, test_lng = train_test_split(series_lng, 0.7)\n",
        "train_xaxis, test_xaxis = train_test_split(xaxis, 0.7)\n",
        "train_lat.shape"
      ],
      "metadata": {
        "colab": {
          "base_uri": "https://localhost:8080/"
        },
        "id": "-JYxilAQgo47",
        "outputId": "2af7fc54-4f10-41a8-8940-01dd0577e21e"
      },
      "execution_count": 8,
      "outputs": [
        {
          "output_type": "execute_result",
          "data": {
            "text/plain": [
              "(2240, 1)"
            ]
          },
          "metadata": {},
          "execution_count": 8
        }
      ]
    },
    {
      "cell_type": "code",
      "source": [
        "train_lat"
      ],
      "metadata": {
        "id": "DBE8Ug4TJADl"
      },
      "execution_count": null,
      "outputs": []
    },
    {
      "cell_type": "code",
      "source": [
        "from keras.preprocessing.sequence import TimeseriesGenerator\n",
        "def ts_data_preparation(features, window_size=5, future=1, batch_size =1, shuffle=False):\n",
        "  target = features[(future-1):]\n",
        "  features = features[:-(future-1)] if future != 1 else features   \n",
        "  tensor = TimeseriesGenerator(features, target, length=window_size, batch_size=batch_size, shuffle=shuffle)\n",
        "  return tensor\n"
      ],
      "metadata": {
        "id": "8k5f-ysuUshp"
      },
      "execution_count": 9,
      "outputs": []
    },
    {
      "cell_type": "code",
      "source": [
        "window_size=15\n",
        "future =1\n",
        "batch_size= 15\n",
        "train_x_lat = ts_data_preparation(train_lat, window_size=window_size, future=future, batch_size=batch_size, shuffle=True)\n",
        "train_x_lng = ts_data_preparation(train_lng, window_size=window_size, future=future, batch_size=batch_size, shuffle=True)\n",
        "\n",
        "# test_lat = ts_data_preparation(test_lat, window_size=window_size, future=future, batch_size=batch_size, shuffle=False)\n"
      ],
      "metadata": {
        "id": "O-QEemLO94Hb"
      },
      "execution_count": 67,
      "outputs": []
    },
    {
      "cell_type": "code",
      "source": [
        "train_x_lat[0]"
      ],
      "metadata": {
        "id": "6E18UvAqYrL7"
      },
      "execution_count": null,
      "outputs": []
    },
    {
      "cell_type": "code",
      "source": [
        "len(train_x_lat)"
      ],
      "metadata": {
        "colab": {
          "base_uri": "https://localhost:8080/"
        },
        "id": "Z2crzeMFxmk5",
        "outputId": "f6712927-8617-4efd-938c-8858de205f68"
      },
      "execution_count": 223,
      "outputs": [
        {
          "output_type": "execute_result",
          "data": {
            "text/plain": [
              "560"
            ]
          },
          "metadata": {},
          "execution_count": 223
        }
      ]
    },
    {
      "cell_type": "code",
      "source": [
        "#Stacked LSTM with 1 hidden dense layer\n",
        "# reshape input to be [samples, time steps, features]\n",
        "#trainX = np.reshape(trainX, (trainX.shape[0], 1, trainX.shape[1]))\n",
        "#testX = np.reshape(testX, (testX.shape[0], 1, testX.shape[1]))\n",
        "\n",
        "tf.keras.backend.clear_session()\n",
        "def model_lstm(window_size):\n",
        "  \n",
        "  model = tf.keras.models.Sequential([\n",
        "                    tf.keras.layers.LSTM(50, activation='relu',return_sequences=True, input_shape=(window_size,1)),\n",
        "                    tf.keras.layers.LSTM(50,activation='relu'),\n",
        "                    tf.keras.layers.Dense(1)])\n",
        "  model.compile(optimizer= tf.keras.optimizers.SGD(learning_rate=1e-7, momentum=0.9),\n",
        "                loss='mse')\n",
        "  model.summary()\n",
        "  # print('Train...', model.summary())\n",
        "  return model"
      ],
      "metadata": {
        "id": "aQInDrnQp1J5"
      },
      "execution_count": 68,
      "outputs": []
    },
    {
      "cell_type": "code",
      "source": [
        "model = model_lstm(window_size)\n",
        "epochs = 50\n",
        "model.fit(train_x_lat, epochs=epochs, verbose=1)"
      ],
      "metadata": {
        "colab": {
          "base_uri": "https://localhost:8080/"
        },
        "id": "vLjsPDJZcFzF",
        "outputId": "6a411026-fd26-433f-f69f-3683b2154263"
      },
      "execution_count": 69,
      "outputs": [
        {
          "output_type": "stream",
          "name": "stdout",
          "text": [
            "Model: \"sequential\"\n",
            "_________________________________________________________________\n",
            " Layer (type)                Output Shape              Param #   \n",
            "=================================================================\n",
            " lstm (LSTM)                 (None, 15, 50)            10400     \n",
            "                                                                 \n",
            " lstm_1 (LSTM)               (None, 50)                20200     \n",
            "                                                                 \n",
            " dense (Dense)               (None, 1)                 51        \n",
            "                                                                 \n",
            "=================================================================\n",
            "Total params: 30,651\n",
            "Trainable params: 30,651\n",
            "Non-trainable params: 0\n",
            "_________________________________________________________________\n",
            "Epoch 1/50\n",
            "149/149 [==============================] - 5s 19ms/step - loss: 34.9067\n",
            "Epoch 2/50\n",
            "149/149 [==============================] - 3s 19ms/step - loss: 9.3299e-07\n",
            "Epoch 3/50\n",
            "149/149 [==============================] - 3s 19ms/step - loss: 6.7908e-09\n",
            "Epoch 4/50\n",
            "149/149 [==============================] - 3s 19ms/step - loss: 5.7890e-09\n",
            "Epoch 5/50\n",
            "149/149 [==============================] - 3s 18ms/step - loss: 6.6725e-09\n",
            "Epoch 6/50\n",
            "149/149 [==============================] - 3s 18ms/step - loss: 6.7211e-09\n",
            "Epoch 7/50\n",
            "149/149 [==============================] - 3s 18ms/step - loss: 6.7981e-09\n",
            "Epoch 8/50\n",
            "149/149 [==============================] - 3s 18ms/step - loss: 6.0916e-09\n",
            "Epoch 9/50\n",
            "149/149 [==============================] - 3s 17ms/step - loss: 6.4466e-09\n",
            "Epoch 10/50\n",
            "149/149 [==============================] - 3s 17ms/step - loss: 6.3121e-09\n",
            "Epoch 11/50\n",
            "149/149 [==============================] - 3s 17ms/step - loss: 6.5449e-09\n",
            "Epoch 12/50\n",
            "149/149 [==============================] - 3s 19ms/step - loss: 6.4483e-09\n",
            "Epoch 13/50\n",
            "149/149 [==============================] - 3s 18ms/step - loss: 6.0384e-09\n",
            "Epoch 14/50\n",
            "149/149 [==============================] - 5s 34ms/step - loss: 6.3028e-09\n",
            "Epoch 15/50\n",
            "149/149 [==============================] - 4s 26ms/step - loss: 6.3579e-09\n",
            "Epoch 16/50\n",
            "149/149 [==============================] - 3s 17ms/step - loss: 6.3706e-09\n",
            "Epoch 17/50\n",
            "149/149 [==============================] - 3s 18ms/step - loss: 6.4826e-09\n",
            "Epoch 18/50\n",
            "149/149 [==============================] - 3s 17ms/step - loss: 6.5948e-09\n",
            "Epoch 19/50\n",
            "149/149 [==============================] - 3s 17ms/step - loss: 6.3488e-09\n",
            "Epoch 20/50\n",
            "149/149 [==============================] - 3s 17ms/step - loss: 6.2869e-09\n",
            "Epoch 21/50\n",
            "149/149 [==============================] - 3s 17ms/step - loss: 6.1797e-09\n",
            "Epoch 22/50\n",
            "149/149 [==============================] - 3s 17ms/step - loss: 6.3086e-09\n",
            "Epoch 23/50\n",
            "149/149 [==============================] - 3s 17ms/step - loss: 6.3061e-09\n",
            "Epoch 24/50\n",
            "149/149 [==============================] - 3s 17ms/step - loss: 6.6142e-09\n",
            "Epoch 25/50\n",
            "149/149 [==============================] - 3s 17ms/step - loss: 6.0941e-09\n",
            "Epoch 26/50\n",
            "149/149 [==============================] - 3s 17ms/step - loss: 6.5901e-09\n",
            "Epoch 27/50\n",
            "149/149 [==============================] - 2s 16ms/step - loss: 6.6841e-09\n",
            "Epoch 28/50\n",
            "149/149 [==============================] - 2s 17ms/step - loss: 6.4108e-09\n",
            "Epoch 29/50\n",
            "149/149 [==============================] - 3s 17ms/step - loss: 6.3324e-09\n",
            "Epoch 30/50\n",
            "149/149 [==============================] - 3s 18ms/step - loss: 6.3831e-09\n",
            "Epoch 31/50\n",
            "149/149 [==============================] - 3s 17ms/step - loss: 5.9529e-09\n",
            "Epoch 32/50\n",
            "149/149 [==============================] - 3s 19ms/step - loss: 6.3476e-09\n",
            "Epoch 33/50\n",
            "149/149 [==============================] - 3s 19ms/step - loss: 6.6582e-09\n",
            "Epoch 34/50\n",
            "149/149 [==============================] - 2s 17ms/step - loss: 6.8586e-09\n",
            "Epoch 35/50\n",
            "149/149 [==============================] - 3s 17ms/step - loss: 6.6620e-09\n",
            "Epoch 36/50\n",
            "149/149 [==============================] - 3s 17ms/step - loss: 6.5631e-09\n",
            "Epoch 37/50\n",
            "149/149 [==============================] - 3s 17ms/step - loss: 6.5795e-09\n",
            "Epoch 38/50\n",
            "149/149 [==============================] - 2s 17ms/step - loss: 6.5033e-09\n",
            "Epoch 39/50\n",
            "149/149 [==============================] - 3s 17ms/step - loss: 6.3604e-09\n",
            "Epoch 40/50\n",
            "149/149 [==============================] - 3s 17ms/step - loss: 6.4943e-09\n",
            "Epoch 41/50\n",
            "149/149 [==============================] - 3s 18ms/step - loss: 6.6088e-09\n",
            "Epoch 42/50\n",
            "149/149 [==============================] - 3s 17ms/step - loss: 6.4966e-09\n",
            "Epoch 43/50\n",
            "149/149 [==============================] - 3s 19ms/step - loss: 6.2529e-09\n",
            "Epoch 44/50\n",
            "149/149 [==============================] - 3s 20ms/step - loss: 6.4590e-09\n",
            "Epoch 45/50\n",
            "149/149 [==============================] - 2s 16ms/step - loss: 6.3801e-09\n",
            "Epoch 46/50\n",
            "149/149 [==============================] - 2s 16ms/step - loss: 6.1411e-09\n",
            "Epoch 47/50\n",
            "149/149 [==============================] - 2s 16ms/step - loss: 6.4103e-09\n",
            "Epoch 48/50\n",
            "149/149 [==============================] - 2s 16ms/step - loss: 6.5994e-09\n",
            "Epoch 49/50\n",
            "149/149 [==============================] - 2s 16ms/step - loss: 6.3987e-09\n",
            "Epoch 50/50\n",
            "149/149 [==============================] - 3s 17ms/step - loss: 6.1405e-09\n"
          ]
        },
        {
          "output_type": "execute_result",
          "data": {
            "text/plain": [
              "<keras.callbacks.History at 0x7fb58febcd50>"
            ]
          },
          "metadata": {},
          "execution_count": 69
        }
      ]
    },
    {
      "cell_type": "code",
      "source": [
        "train_lat.shape"
      ],
      "metadata": {
        "id": "B93FewUMEiKC"
      },
      "execution_count": null,
      "outputs": []
    },
    {
      "cell_type": "code",
      "source": [
        "trainPredict_lat = model.predict(train_lat)\n",
        "\n",
        "# trainPredict_lat = scaler.inverse_transform(trainPredict_lat)\n",
        "# train_lat = scaler.inverse_transform(train_lat)"
      ],
      "metadata": {
        "colab": {
          "base_uri": "https://localhost:8080/"
        },
        "id": "1H9WOKkHCFhv",
        "outputId": "9a9a7ea5-d525-4611-bd21-42b8555e89ee"
      },
      "execution_count": 70,
      "outputs": [
        {
          "output_type": "stream",
          "name": "stdout",
          "text": [
            "WARNING:tensorflow:Model was constructed with shape (None, 15, 1) for input KerasTensor(type_spec=TensorSpec(shape=(None, 15, 1), dtype=tf.float32, name='lstm_input'), name='lstm_input', description=\"created by layer 'lstm_input'\"), but it was called on an input with incompatible shape (32, 1, 1).\n"
          ]
        }
      ]
    },
    {
      "cell_type": "markdown",
      "source": [
        ""
      ],
      "metadata": {
        "id": "IrAlMPN-DgQw"
      }
    },
    {
      "cell_type": "code",
      "source": [
        "trainPredict_lat"
      ],
      "metadata": {
        "id": "j9rhh5S23tbF"
      },
      "execution_count": null,
      "outputs": []
    },
    {
      "cell_type": "code",
      "source": [
        "trainPredict_lat =np.array(trainPredict_lat)"
      ],
      "metadata": {
        "id": "q-W6BG8lCmC2"
      },
      "execution_count": 31,
      "outputs": []
    },
    {
      "cell_type": "code",
      "source": [
        "testPredict_lat = model.predict(test_lat)"
      ],
      "metadata": {
        "id": "t8uJy1occHij"
      },
      "execution_count": 71,
      "outputs": []
    },
    {
      "cell_type": "code",
      "source": [
        "test_lat"
      ],
      "metadata": {
        "id": "FgxuuRpDXv6Y"
      },
      "execution_count": null,
      "outputs": []
    },
    {
      "cell_type": "code",
      "source": [
        "plot_dataset(train_xaxis, trainPredict_lat, color ='b')\n",
        "# plot_dataset(train_xaxis,train_lat)\n",
        "# plot_dataset([i for i in range(len(series_lat))], series_lat)"
      ],
      "metadata": {
        "id": "M7W5GMxcFN0S"
      },
      "execution_count": null,
      "outputs": []
    },
    {
      "cell_type": "code",
      "source": [
        "plot_dataset(train_xaxis,train_lat)"
      ],
      "metadata": {
        "id": "LaHW9BdNjTLE"
      },
      "execution_count": null,
      "outputs": []
    },
    {
      "cell_type": "code",
      "source": [
        "plt.plot(test_lat, color ='r')"
      ],
      "metadata": {
        "id": "dSiKESWsTeDa"
      },
      "execution_count": null,
      "outputs": []
    },
    {
      "cell_type": "code",
      "source": [
        "testPredict_lat"
      ],
      "metadata": {
        "id": "NfQYnUb9ZLb2"
      },
      "execution_count": null,
      "outputs": []
    },
    {
      "cell_type": "code",
      "source": [
        "plt.plot(testPredict_lat, color='b')\n",
        "# plt.plot(test_lat)"
      ],
      "metadata": {
        "colab": {
          "base_uri": "https://localhost:8080/",
          "height": 294
        },
        "id": "srxDLwhRkLJ-",
        "outputId": "f75b3546-2583-43a1-b0bb-1bf640a0d14f"
      },
      "execution_count": 72,
      "outputs": [
        {
          "output_type": "execute_result",
          "data": {
            "text/plain": [
              "[<matplotlib.lines.Line2D at 0x7fb58d4b23d0>]"
            ]
          },
          "metadata": {},
          "execution_count": 72
        },
        {
          "output_type": "display_data",
          "data": {
            "text/plain": [
              "<Figure size 432x288 with 1 Axes>"
            ],
            "image/png": "[encoded data removed]"
          },
          "metadata": {
            "needs_background": "light"
          }
        }
      ]
    },
    {
      "cell_type": "code",
      "source": [
        "plt.plot(series_lat)"
      ],
      "metadata": {
        "id": "HLPM2LkgX9QM"
      },
      "execution_count": null,
      "outputs": []
    }
  ]
}