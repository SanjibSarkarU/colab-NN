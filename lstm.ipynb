{
  "nbformat": 4,
  "nbformat_minor": 0,
  "metadata": {
    "colab": {
      "name": "lstm.ipynb",
      "provenance": [],
      "collapsed_sections": [],
      "authorship_tag": "ABX9TyN6TLiMz/OsVA66XtktQEww",
      "include_colab_link": true
    },
    "kernelspec": {
      "name": "python3",
      "display_name": "Python 3"
    },
    "language_info": {
      "name": "python"
    }
  },
  "cells": [
    {
      "cell_type": "markdown",
      "metadata": {
        "id": "view-in-github",
        "colab_type": "text"
      },
      "source": [
        "<a href=\"https://colab.research.google.com/github/SanjibSarkarU/colab-NN/blob/main/lstm.ipynb\" target=\"_parent\"><img src=\"https://colab.research.google.com/assets/colab-badge.svg\" alt=\"Open In Colab\"/></a>"
      ]
    },
    {
      "cell_type": "code",
      "source": [
        "!pip install tensorflow-gpu"
      ],
      "metadata": {
        "colab": {
          "base_uri": "https://localhost:8080/"
        },
        "id": "mI9_CNCMW5Q3",
        "outputId": "3a680849-f924-4b69-cf71-02634483b290"
      },
      "execution_count": 163,
      "outputs": [
        {
          "output_type": "stream",
          "name": "stdout",
          "text": [
            "Requirement already satisfied: tensorflow-gpu in /usr/local/lib/python3.7/dist-packages (2.8.0)\n",
            "Requirement already satisfied: opt-einsum>=2.3.2 in /usr/local/lib/python3.7/dist-packages (from tensorflow-gpu) (3.3.0)\n",
            "Requirement already satisfied: protobuf>=3.9.2 in /usr/local/lib/python3.7/dist-packages (from tensorflow-gpu) (3.17.3)\n",
            "Requirement already satisfied: keras-preprocessing>=1.1.1 in /usr/local/lib/python3.7/dist-packages (from tensorflow-gpu) (1.1.2)\n",
            "Requirement already satisfied: grpcio<2.0,>=1.24.3 in /usr/local/lib/python3.7/dist-packages (from tensorflow-gpu) (1.44.0)\n",
            "Requirement already satisfied: typing-extensions>=3.6.6 in /usr/local/lib/python3.7/dist-packages (from tensorflow-gpu) (3.10.0.2)\n",
            "Requirement already satisfied: tf-estimator-nightly==2.8.0.dev2021122109 in /usr/local/lib/python3.7/dist-packages (from tensorflow-gpu) (2.8.0.dev2021122109)\n",
            "Requirement already satisfied: libclang>=9.0.1 in /usr/local/lib/python3.7/dist-packages (from tensorflow-gpu) (13.0.0)\n",
            "Requirement already satisfied: numpy>=1.20 in /usr/local/lib/python3.7/dist-packages (from tensorflow-gpu) (1.21.5)\n",
            "Requirement already satisfied: termcolor>=1.1.0 in /usr/local/lib/python3.7/dist-packages (from tensorflow-gpu) (1.1.0)\n",
            "Requirement already satisfied: google-pasta>=0.1.1 in /usr/local/lib/python3.7/dist-packages (from tensorflow-gpu) (0.2.0)\n",
            "Requirement already satisfied: h5py>=2.9.0 in /usr/local/lib/python3.7/dist-packages (from tensorflow-gpu) (3.1.0)\n",
            "Requirement already satisfied: tensorboard<2.9,>=2.8 in /usr/local/lib/python3.7/dist-packages (from tensorflow-gpu) (2.8.0)\n",
            "Requirement already satisfied: astunparse>=1.6.0 in /usr/local/lib/python3.7/dist-packages (from tensorflow-gpu) (1.6.3)\n",
            "Requirement already satisfied: absl-py>=0.4.0 in /usr/local/lib/python3.7/dist-packages (from tensorflow-gpu) (1.0.0)\n",
            "Requirement already satisfied: six>=1.12.0 in /usr/local/lib/python3.7/dist-packages (from tensorflow-gpu) (1.15.0)\n",
            "Requirement already satisfied: keras<2.9,>=2.8.0rc0 in /usr/local/lib/python3.7/dist-packages (from tensorflow-gpu) (2.8.0)\n",
            "Requirement already satisfied: gast>=0.2.1 in /usr/local/lib/python3.7/dist-packages (from tensorflow-gpu) (0.5.3)\n",
            "Requirement already satisfied: tensorflow-io-gcs-filesystem>=0.23.1 in /usr/local/lib/python3.7/dist-packages (from tensorflow-gpu) (0.24.0)\n",
            "Requirement already satisfied: flatbuffers>=1.12 in /usr/local/lib/python3.7/dist-packages (from tensorflow-gpu) (2.0)\n",
            "Requirement already satisfied: setuptools in /usr/local/lib/python3.7/dist-packages (from tensorflow-gpu) (57.4.0)\n",
            "Requirement already satisfied: wrapt>=1.11.0 in /usr/local/lib/python3.7/dist-packages (from tensorflow-gpu) (1.14.0)\n",
            "Requirement already satisfied: wheel<1.0,>=0.23.0 in /usr/local/lib/python3.7/dist-packages (from astunparse>=1.6.0->tensorflow-gpu) (0.37.1)\n",
            "Requirement already satisfied: cached-property in /usr/local/lib/python3.7/dist-packages (from h5py>=2.9.0->tensorflow-gpu) (1.5.2)\n",
            "Requirement already satisfied: werkzeug>=0.11.15 in /usr/local/lib/python3.7/dist-packages (from tensorboard<2.9,>=2.8->tensorflow-gpu) (1.0.1)\n",
            "Requirement already satisfied: google-auth<3,>=1.6.3 in /usr/local/lib/python3.7/dist-packages (from tensorboard<2.9,>=2.8->tensorflow-gpu) (1.35.0)\n",
            "Requirement already satisfied: markdown>=2.6.8 in /usr/local/lib/python3.7/dist-packages (from tensorboard<2.9,>=2.8->tensorflow-gpu) (3.3.6)\n",
            "Requirement already satisfied: google-auth-oauthlib<0.5,>=0.4.1 in /usr/local/lib/python3.7/dist-packages (from tensorboard<2.9,>=2.8->tensorflow-gpu) (0.4.6)\n",
            "Requirement already satisfied: tensorboard-data-server<0.7.0,>=0.6.0 in /usr/local/lib/python3.7/dist-packages (from tensorboard<2.9,>=2.8->tensorflow-gpu) (0.6.1)\n",
            "Requirement already satisfied: tensorboard-plugin-wit>=1.6.0 in /usr/local/lib/python3.7/dist-packages (from tensorboard<2.9,>=2.8->tensorflow-gpu) (1.8.1)\n",
            "Requirement already satisfied: requests<3,>=2.21.0 in /usr/local/lib/python3.7/dist-packages (from tensorboard<2.9,>=2.8->tensorflow-gpu) (2.23.0)\n",
            "Requirement already satisfied: rsa<5,>=3.1.4 in /usr/local/lib/python3.7/dist-packages (from google-auth<3,>=1.6.3->tensorboard<2.9,>=2.8->tensorflow-gpu) (4.8)\n",
            "Requirement already satisfied: pyasn1-modules>=0.2.1 in /usr/local/lib/python3.7/dist-packages (from google-auth<3,>=1.6.3->tensorboard<2.9,>=2.8->tensorflow-gpu) (0.2.8)\n",
            "Requirement already satisfied: cachetools<5.0,>=2.0.0 in /usr/local/lib/python3.7/dist-packages (from google-auth<3,>=1.6.3->tensorboard<2.9,>=2.8->tensorflow-gpu) (4.2.4)\n",
            "Requirement already satisfied: requests-oauthlib>=0.7.0 in /usr/local/lib/python3.7/dist-packages (from google-auth-oauthlib<0.5,>=0.4.1->tensorboard<2.9,>=2.8->tensorflow-gpu) (1.3.1)\n",
            "Requirement already satisfied: importlib-metadata>=4.4 in /usr/local/lib/python3.7/dist-packages (from markdown>=2.6.8->tensorboard<2.9,>=2.8->tensorflow-gpu) (4.11.3)\n",
            "Requirement already satisfied: zipp>=0.5 in /usr/local/lib/python3.7/dist-packages (from importlib-metadata>=4.4->markdown>=2.6.8->tensorboard<2.9,>=2.8->tensorflow-gpu) (3.7.0)\n",
            "Requirement already satisfied: pyasn1<0.5.0,>=0.4.6 in /usr/local/lib/python3.7/dist-packages (from pyasn1-modules>=0.2.1->google-auth<3,>=1.6.3->tensorboard<2.9,>=2.8->tensorflow-gpu) (0.4.8)\n",
            "Requirement already satisfied: idna<3,>=2.5 in /usr/local/lib/python3.7/dist-packages (from requests<3,>=2.21.0->tensorboard<2.9,>=2.8->tensorflow-gpu) (2.10)\n",
            "Requirement already satisfied: urllib3!=1.25.0,!=1.25.1,<1.26,>=1.21.1 in /usr/local/lib/python3.7/dist-packages (from requests<3,>=2.21.0->tensorboard<2.9,>=2.8->tensorflow-gpu) (1.24.3)\n",
            "Requirement already satisfied: certifi>=2017.4.17 in /usr/local/lib/python3.7/dist-packages (from requests<3,>=2.21.0->tensorboard<2.9,>=2.8->tensorflow-gpu) (2021.10.8)\n",
            "Requirement already satisfied: chardet<4,>=3.0.2 in /usr/local/lib/python3.7/dist-packages (from requests<3,>=2.21.0->tensorboard<2.9,>=2.8->tensorflow-gpu) (3.0.4)\n",
            "Requirement already satisfied: oauthlib>=3.0.0 in /usr/local/lib/python3.7/dist-packages (from requests-oauthlib>=0.7.0->google-auth-oauthlib<0.5,>=0.4.1->tensorboard<2.9,>=2.8->tensorflow-gpu) (3.2.0)\n"
          ]
        }
      ]
    },
    {
      "cell_type": "code",
      "source": [
        "import numpy as np\n",
        "import tensorflow as tf\n",
        "# from tensorflow.keras.models import Sequential\n",
        "import pandas as pd\n",
        "from matplotlib import pyplot as plt\n",
        "import matplotlib.colors as pltc\n",
        "from keras.models import Sequential\n",
        "from keras.layers import Dense, LSTM, SimpleRNN\n",
        "from sklearn.preprocessing import MinMaxScaler\n",
        "from sklearn.metrics import mean_squared_error\n",
        "plt.style.use('dark_background')"
      ],
      "metadata": {
        "id": "3NzvErHZW--3"
      },
      "execution_count": 164,
      "outputs": []
    },
    {
      "cell_type": "code",
      "source": [
        "df = pd.read_csv('20220222_153859_hlc.csv', skiprows=1)\n",
        "df = df.rename(columns={\"Latitude (Deg N)\": 'lat', \"Longitude (Deg W)\": 'lng'}, errors=\"raise\")\n",
        "df = df.loc[(df['lat'] != 0)]"
      ],
      "metadata": {
        "id": "3UgPedKAYLjZ"
      },
      "execution_count": 165,
      "outputs": []
    },
    {
      "cell_type": "code",
      "source": [
        "colors = [k for k,v in pltc.cnames.items()]"
      ],
      "metadata": {
        "id": "2RdYz1YhMN4f"
      },
      "execution_count": 166,
      "outputs": []
    },
    {
      "cell_type": "code",
      "source": [
        "# df.dtypes"
      ],
      "metadata": {
        "id": "xBc9fxfkYrBZ"
      },
      "execution_count": 167,
      "outputs": []
    },
    {
      "cell_type": "code",
      "source": [
        "#  df.lat.plot()"
      ],
      "metadata": {
        "id": "v8x8Qb2vmhty"
      },
      "execution_count": 168,
      "outputs": []
    },
    {
      "cell_type": "code",
      "source": [
        "start = 10500\n",
        "end = 13700\n",
        "series_time = df.Time[start:end].to_numpy()\n",
        "series_lat = df.lat[start:end].to_numpy()\n",
        "series_lng = df.lng[start:end].to_numpy()\n",
        "xaxis = np.array([i for i in range(len(series_lat))])"
      ],
      "metadata": {
        "id": "TOOzDjdwZdrZ"
      },
      "execution_count": 169,
      "outputs": []
    },
    {
      "cell_type": "code",
      "source": [
        "# type(series_lat)\n",
        "xaxis.shape\n"
      ],
      "metadata": {
        "colab": {
          "base_uri": "https://localhost:8080/"
        },
        "id": "GrDrGxsufAZ8",
        "outputId": "08aaa03a-bdf5-454a-8383-15c34ca4bc70"
      },
      "execution_count": 170,
      "outputs": [
        {
          "output_type": "execute_result",
          "data": {
            "text/plain": [
              "(3200,)"
            ]
          },
          "metadata": {},
          "execution_count": 170
        }
      ]
    },
    {
      "cell_type": "code",
      "source": [
        "series_lat"
      ],
      "metadata": {
        "id": "JMhm2VLaI6Cn",
        "colab": {
          "base_uri": "https://localhost:8080/"
        },
        "outputId": "690b5074-54d5-4771-85b3-83b7f5d012d5"
      },
      "execution_count": 171,
      "outputs": [
        {
          "output_type": "execute_result",
          "data": {
            "text/plain": [
              "array([30.35248509, 30.35248803, 30.35248947, ..., 30.35157004,\n",
              "       30.35157101, 30.35157185])"
            ]
          },
          "metadata": {},
          "execution_count": 171
        }
      ]
    },
    {
      "cell_type": "code",
      "source": [
        "def plot_dataset(xaxis, yaxis, xlabel= 'xaxis', ylabel= 'yaxis', color='r'):\n",
        "  plt.plot(xaxis, yaxis, color=color)\n",
        "  plt.xlabel(xlabel)\n",
        "  plt.ylabel(ylabel)"
      ],
      "metadata": {
        "id": "DNlPuBtbbBAC"
      },
      "execution_count": 172,
      "outputs": []
    },
    {
      "cell_type": "code",
      "source": [
        "def train_test_split(dataset, percentage):\n",
        "  train_size = int(len(dataset)*percentage)\n",
        "  test_seze = len(dataset) - train_size\n",
        "  train, test = dataset[0:train_size,:], dataset[train_size:len(dataset),:]\n",
        "  return train, test"
      ],
      "metadata": {
        "id": "SoUcS3J8gtQt"
      },
      "execution_count": 173,
      "outputs": []
    },
    {
      "cell_type": "code",
      "source": [
        "# plot_dataset(xaxis, series_lat)"
      ],
      "metadata": {
        "id": "zhoR9AHtZgya"
      },
      "execution_count": 174,
      "outputs": []
    },
    {
      "cell_type": "code",
      "source": [
        "# plot_dataset(xaxis, series_lng)"
      ],
      "metadata": {
        "id": "GFkGJ3v2c53h"
      },
      "execution_count": 175,
      "outputs": []
    },
    {
      "cell_type": "code",
      "source": [
        "# plot_dataset(series_lng, series_lat)"
      ],
      "metadata": {
        "id": "OKnIzmUcdvyt"
      },
      "execution_count": 176,
      "outputs": []
    },
    {
      "cell_type": "code",
      "source": [
        "# reshape\n",
        "series_lat = np.reshape(series_lat,(len(series_lat),1))\n",
        "series_lng = np.reshape(series_lng,(len(series_lng),1))\n",
        "xaxis = np.reshape(xaxis,(len(xaxis),1))"
      ],
      "metadata": {
        "id": "Re4Kz7-xfUX0"
      },
      "execution_count": 177,
      "outputs": []
    },
    {
      "cell_type": "code",
      "source": [
        "# # Normalization is optional but recommended for neural network as certain \n",
        "# # activation functions are sensitive to magnitude of numbers. \n",
        "# # normalize the dataset\n",
        "# scaler = MinMaxScaler(feature_range=(0, 1)) #Also try QuantileTransformer"
      ],
      "metadata": {
        "id": "XDAJOpm0eX51"
      },
      "execution_count": 178,
      "outputs": []
    },
    {
      "cell_type": "code",
      "source": [
        "# series_lat = scaler.fit_transform(series_lat)\n",
        "# # series_lng = scaler.fit_transform(series_lng)"
      ],
      "metadata": {
        "id": "rvUsUriTF3Qd"
      },
      "execution_count": 179,
      "outputs": []
    },
    {
      "cell_type": "code",
      "source": [
        "# split into train and test sets\n",
        "train_lat, test_lat = train_test_split(series_lat, 0.7)\n",
        "train_lng, test_lng = train_test_split(series_lng, 0.7)\n",
        "train_xaxis, test_xaxis = train_test_split(xaxis, 0.7)\n",
        "train_lat.shape"
      ],
      "metadata": {
        "colab": {
          "base_uri": "https://localhost:8080/"
        },
        "id": "-JYxilAQgo47",
        "outputId": "fdee90d8-9788-4fc8-c09e-d88a61af9616"
      },
      "execution_count": 180,
      "outputs": [
        {
          "output_type": "execute_result",
          "data": {
            "text/plain": [
              "(2240, 1)"
            ]
          },
          "metadata": {},
          "execution_count": 180
        }
      ]
    },
    {
      "cell_type": "code",
      "source": [
        "tl= test_lat"
      ],
      "metadata": {
        "id": "CB7qabiIynbE"
      },
      "execution_count": 181,
      "outputs": []
    },
    {
      "cell_type": "code",
      "source": [
        "# train_lat"
      ],
      "metadata": {
        "id": "DBE8Ug4TJADl"
      },
      "execution_count": 182,
      "outputs": []
    },
    {
      "cell_type": "code",
      "source": [
        "def test_data_preparation(series, window_size, batch_size):\n",
        "    dataset = tf.data.Dataset.from_tensor_slices(series)\n",
        "    dataset = dataset.window(window_size, shift=1, drop_remainder=True)\n",
        "    dataset = dataset.flat_map(lambda window: window.batch(window_size))\n",
        "    # dataset = dataset.shuffle(shuffle_buffer).map(lambda window: (window[:-1], window[-1:]))\n",
        "    dataset = dataset.batch(batch_size).prefetch(1)\n",
        "    return dataset"
      ],
      "metadata": {
        "id": "yKuU4LVDNTo7"
      },
      "execution_count": 183,
      "outputs": []
    },
    {
      "cell_type": "code",
      "source": [
        "from keras.preprocessing.sequence import TimeseriesGenerator\n",
        "def ts_data_preparation(features, window_size=5, future=1, batch_size =1, shuffle=False):\n",
        "  target = features[(future-1):]\n",
        "  features = features[:-(future-1)] if future != 1 else features   \n",
        "  tensor = TimeseriesGenerator(features, target, length=window_size, batch_size=batch_size, shuffle=shuffle)\n",
        "  return tensor\n"
      ],
      "metadata": {
        "id": "8k5f-ysuUshp"
      },
      "execution_count": 184,
      "outputs": []
    },
    {
      "cell_type": "code",
      "source": [
        "def model_lstm(window_size):\n",
        "  tf.keras.backend.clear_session()\n",
        "  model = tf.keras.models.Sequential([\n",
        "                    tf.keras.layers.LSTM(50, activation='relu', return_sequences=True, input_shape=(window_size,1)),\n",
        "                    tf.keras.layers.LSTM(50, activation='relu'),\n",
        "                    tf.keras.layers.Dense(1)])\n",
        "  model.compile(optimizer= tf.keras.optimizers.SGD(learning_rate=1e-7, momentum=0.9),\n",
        "                loss='mse')\n",
        "  model.summary()\n",
        "  # print('Train...', model.summary())\n",
        "  return model"
      ],
      "metadata": {
        "id": "aQInDrnQp1J5"
      },
      "execution_count": 185,
      "outputs": []
    },
    {
      "cell_type": "code",
      "source": [
        "for i in range(1, 31, 10):\n",
        "  window_size=15\n",
        "  future =i\n",
        "  batch_size= 32\n",
        "  train_x_lat = ts_data_preparation(train_lat, window_size=window_size, future=future, batch_size=batch_size, shuffle=True)\n",
        "  train_x_lng = ts_data_preparation(train_lng, window_size=window_size, future=future, batch_size=batch_size, shuffle=True)\n",
        "  # test_lat = test_data_preparation(test_lat, window_size=window_size, batch_size=batch_size)\n",
        "\n",
        "  model = model_lstm(window_size)\n",
        "  epochs = 50\n",
        "  model.fit(train_x_lat, epochs=epochs, verbose=1)\n",
        "\n",
        "  # testPredict_lat = model.predict(test_lat)\n",
        "\n",
        "  predict_all_lat = model.predict(test_data_preparation(series_lat, window_size=window_size, batch_size=batch_size))\n",
        "  plt.plot(predict_all_lat, color = colors[11+i], label = f'{future} sec future')\n",
        "\n",
        "plt.plot(series_lat, color ='r', label= 'original' )\n",
        "plt.legend()  "
      ],
      "metadata": {
        "id": "O-QEemLO94Hb",
        "colab": {
          "base_uri": "https://localhost:8080/",
          "height": 1000
        },
        "outputId": "11085fb6-7890-42a5-d921-dbcd78dfa652"
      },
      "execution_count": 186,
      "outputs": [
        {
          "output_type": "stream",
          "name": "stdout",
          "text": [
            "Model: \"sequential\"\n",
            "_________________________________________________________________\n",
            " Layer (type)                Output Shape              Param #   \n",
            "=================================================================\n",
            " lstm (LSTM)                 (None, 15, 50)            10400     \n",
            "                                                                 \n",
            " lstm_1 (LSTM)               (None, 50)                20200     \n",
            "                                                                 \n",
            " dense (Dense)               (None, 1)                 51        \n",
            "                                                                 \n",
            "=================================================================\n",
            "Total params: 30,651\n",
            "Trainable params: 30,651\n",
            "Non-trainable params: 0\n",
            "_________________________________________________________________\n",
            "Epoch 1/50\n",
            "70/70 [==============================] - 5s 32ms/step - loss: 316.2357\n",
            "Epoch 2/50\n",
            "70/70 [==============================] - 2s 34ms/step - loss: 0.1264\n",
            "Epoch 3/50\n",
            "70/70 [==============================] - 2s 31ms/step - loss: 8.4338e-05\n",
            "Epoch 4/50\n",
            "70/70 [==============================] - 2s 30ms/step - loss: 5.9170e-08\n",
            "Epoch 5/50\n",
            "70/70 [==============================] - 2s 30ms/step - loss: 1.7607e-08\n",
            "Epoch 6/50\n",
            "70/70 [==============================] - 3s 36ms/step - loss: 1.7563e-08\n",
            "Epoch 7/50\n",
            "70/70 [==============================] - 3s 37ms/step - loss: 1.6324e-08\n",
            "Epoch 8/50\n",
            "70/70 [==============================] - 2s 35ms/step - loss: 1.6697e-08\n",
            "Epoch 9/50\n",
            "70/70 [==============================] - 3s 38ms/step - loss: 1.6876e-08\n",
            "Epoch 10/50\n",
            "70/70 [==============================] - 1s 17ms/step - loss: 1.7515e-08\n",
            "Epoch 11/50\n",
            "70/70 [==============================] - 1s 17ms/step - loss: 1.7788e-08\n",
            "Epoch 12/50\n",
            "70/70 [==============================] - 1s 17ms/step - loss: 1.8104e-08\n",
            "Epoch 13/50\n",
            "70/70 [==============================] - 1s 16ms/step - loss: 1.6243e-08\n",
            "Epoch 14/50\n",
            "70/70 [==============================] - 1s 16ms/step - loss: 1.6919e-08\n",
            "Epoch 15/50\n",
            "70/70 [==============================] - 1s 16ms/step - loss: 1.7094e-08\n",
            "Epoch 16/50\n",
            "70/70 [==============================] - 1s 17ms/step - loss: 1.6559e-08\n",
            "Epoch 17/50\n",
            "70/70 [==============================] - 1s 17ms/step - loss: 1.7248e-08\n",
            "Epoch 18/50\n",
            "70/70 [==============================] - 1s 17ms/step - loss: 1.6933e-08\n",
            "Epoch 19/50\n",
            "70/70 [==============================] - 1s 17ms/step - loss: 1.7234e-08\n",
            "Epoch 20/50\n",
            "70/70 [==============================] - 1s 16ms/step - loss: 1.5941e-08\n",
            "Epoch 21/50\n",
            "70/70 [==============================] - 1s 18ms/step - loss: 1.5832e-08\n",
            "Epoch 22/50\n",
            "70/70 [==============================] - 1s 17ms/step - loss: 1.7594e-08\n",
            "Epoch 23/50\n",
            "70/70 [==============================] - 1s 17ms/step - loss: 1.6764e-08\n",
            "Epoch 24/50\n",
            "70/70 [==============================] - 1s 17ms/step - loss: 1.6445e-08\n",
            "Epoch 25/50\n",
            "70/70 [==============================] - 1s 17ms/step - loss: 1.6944e-08\n",
            "Epoch 26/50\n",
            "70/70 [==============================] - 1s 17ms/step - loss: 1.6638e-08\n",
            "Epoch 27/50\n",
            "70/70 [==============================] - 1s 16ms/step - loss: 1.7606e-08\n",
            "Epoch 28/50\n",
            "70/70 [==============================] - 1s 17ms/step - loss: 1.6582e-08\n",
            "Epoch 29/50\n",
            "70/70 [==============================] - 1s 16ms/step - loss: 1.6881e-08\n",
            "Epoch 30/50\n",
            "70/70 [==============================] - 1s 17ms/step - loss: 1.7517e-08\n",
            "Epoch 31/50\n",
            "70/70 [==============================] - 1s 17ms/step - loss: 1.7366e-08\n",
            "Epoch 32/50\n",
            "70/70 [==============================] - 1s 17ms/step - loss: 1.6024e-08\n",
            "Epoch 33/50\n",
            "70/70 [==============================] - 1s 17ms/step - loss: 1.7917e-08\n",
            "Epoch 34/50\n",
            "70/70 [==============================] - 1s 17ms/step - loss: 1.6299e-08\n",
            "Epoch 35/50\n",
            "70/70 [==============================] - 1s 17ms/step - loss: 1.6327e-08\n",
            "Epoch 36/50\n",
            "70/70 [==============================] - 1s 17ms/step - loss: 1.7256e-08\n",
            "Epoch 37/50\n",
            "70/70 [==============================] - 1s 16ms/step - loss: 1.6757e-08\n",
            "Epoch 38/50\n",
            "70/70 [==============================] - 1s 16ms/step - loss: 1.8014e-08\n",
            "Epoch 39/50\n",
            "70/70 [==============================] - 1s 17ms/step - loss: 1.7361e-08\n",
            "Epoch 40/50\n",
            "70/70 [==============================] - 1s 16ms/step - loss: 1.6639e-08\n",
            "Epoch 41/50\n",
            "70/70 [==============================] - 1s 17ms/step - loss: 1.7652e-08\n",
            "Epoch 42/50\n",
            "70/70 [==============================] - 1s 17ms/step - loss: 1.6923e-08\n",
            "Epoch 43/50\n",
            "70/70 [==============================] - 1s 17ms/step - loss: 1.6981e-08\n",
            "Epoch 44/50\n",
            "70/70 [==============================] - 1s 18ms/step - loss: 1.7049e-08\n",
            "Epoch 45/50\n",
            "70/70 [==============================] - 1s 17ms/step - loss: 1.6680e-08\n",
            "Epoch 46/50\n",
            "70/70 [==============================] - 1s 17ms/step - loss: 1.6590e-08\n",
            "Epoch 47/50\n",
            "70/70 [==============================] - 1s 17ms/step - loss: 1.7503e-08\n",
            "Epoch 48/50\n",
            "70/70 [==============================] - 1s 17ms/step - loss: 1.6596e-08\n",
            "Epoch 49/50\n",
            "70/70 [==============================] - 1s 17ms/step - loss: 1.7060e-08\n",
            "Epoch 50/50\n",
            "70/70 [==============================] - 1s 17ms/step - loss: 1.7397e-08\n",
            "Model: \"sequential\"\n",
            "_________________________________________________________________\n",
            " Layer (type)                Output Shape              Param #   \n",
            "=================================================================\n",
            " lstm (LSTM)                 (None, 15, 50)            10400     \n",
            "                                                                 \n",
            " lstm_1 (LSTM)               (None, 50)                20200     \n",
            "                                                                 \n",
            " dense (Dense)               (None, 1)                 51        \n",
            "                                                                 \n",
            "=================================================================\n",
            "Total params: 30,651\n",
            "Trainable params: 30,651\n",
            "Non-trainable params: 0\n",
            "_________________________________________________________________\n",
            "Epoch 1/50\n",
            "70/70 [==============================] - 3s 17ms/step - loss: 479.5991\n",
            "Epoch 2/50\n",
            "70/70 [==============================] - 1s 16ms/step - loss: 0.1472\n",
            "Epoch 3/50\n",
            "70/70 [==============================] - 1s 17ms/step - loss: 7.1076e-05\n",
            "Epoch 4/50\n",
            "70/70 [==============================] - 1s 17ms/step - loss: 8.2838e-08\n",
            "Epoch 5/50\n",
            "70/70 [==============================] - 1s 17ms/step - loss: 3.3622e-08\n",
            "Epoch 6/50\n",
            "70/70 [==============================] - 1s 17ms/step - loss: 3.1864e-08\n",
            "Epoch 7/50\n",
            "70/70 [==============================] - 1s 17ms/step - loss: 3.3308e-08\n",
            "Epoch 8/50\n",
            "70/70 [==============================] - 1s 16ms/step - loss: 3.4660e-08\n",
            "Epoch 9/50\n",
            "70/70 [==============================] - 1s 17ms/step - loss: 3.1482e-08\n",
            "Epoch 10/50\n",
            "70/70 [==============================] - 1s 17ms/step - loss: 3.3168e-08\n",
            "Epoch 11/50\n",
            "70/70 [==============================] - 1s 17ms/step - loss: 3.4763e-08\n",
            "Epoch 12/50\n",
            "70/70 [==============================] - 1s 17ms/step - loss: 3.2388e-08\n",
            "Epoch 13/50\n",
            "70/70 [==============================] - 1s 17ms/step - loss: 3.0469e-08\n",
            "Epoch 14/50\n",
            "70/70 [==============================] - 1s 17ms/step - loss: 3.4052e-08\n",
            "Epoch 15/50\n",
            "70/70 [==============================] - 1s 16ms/step - loss: 3.1334e-08\n",
            "Epoch 16/50\n",
            "70/70 [==============================] - 1s 17ms/step - loss: 3.3370e-08\n",
            "Epoch 17/50\n",
            "70/70 [==============================] - 1s 16ms/step - loss: 3.5090e-08\n",
            "Epoch 18/50\n",
            "70/70 [==============================] - 1s 17ms/step - loss: 3.5402e-08\n",
            "Epoch 19/50\n",
            "70/70 [==============================] - 2s 31ms/step - loss: 3.4884e-08\n",
            "Epoch 20/50\n",
            "70/70 [==============================] - 2s 31ms/step - loss: 3.2229e-08\n",
            "Epoch 21/50\n",
            "70/70 [==============================] - 1s 17ms/step - loss: 3.3049e-08\n",
            "Epoch 22/50\n",
            "70/70 [==============================] - 1s 16ms/step - loss: 3.3536e-08\n",
            "Epoch 23/50\n",
            "70/70 [==============================] - 1s 17ms/step - loss: 3.3454e-08\n",
            "Epoch 24/50\n",
            "70/70 [==============================] - 1s 17ms/step - loss: 3.5276e-08\n",
            "Epoch 25/50\n",
            "70/70 [==============================] - 1s 17ms/step - loss: 3.2785e-08\n",
            "Epoch 26/50\n",
            "70/70 [==============================] - 1s 17ms/step - loss: 3.4835e-08\n",
            "Epoch 27/50\n",
            "70/70 [==============================] - 1s 17ms/step - loss: 3.2829e-08\n",
            "Epoch 28/50\n",
            "70/70 [==============================] - 1s 17ms/step - loss: 3.3188e-08\n",
            "Epoch 29/50\n",
            "70/70 [==============================] - 1s 17ms/step - loss: 3.5512e-08\n",
            "Epoch 30/50\n",
            "70/70 [==============================] - 1s 17ms/step - loss: 3.2726e-08\n",
            "Epoch 31/50\n",
            "70/70 [==============================] - 1s 17ms/step - loss: 3.1963e-08\n",
            "Epoch 32/50\n",
            "70/70 [==============================] - 1s 17ms/step - loss: 3.3192e-08\n",
            "Epoch 33/50\n",
            "70/70 [==============================] - 1s 17ms/step - loss: 3.2506e-08\n",
            "Epoch 34/50\n",
            "70/70 [==============================] - 1s 17ms/step - loss: 3.2269e-08\n",
            "Epoch 35/50\n",
            "70/70 [==============================] - 1s 18ms/step - loss: 3.4146e-08\n",
            "Epoch 36/50\n",
            "70/70 [==============================] - 1s 17ms/step - loss: 3.3566e-08\n",
            "Epoch 37/50\n",
            "70/70 [==============================] - 1s 17ms/step - loss: 3.5055e-08\n",
            "Epoch 38/50\n",
            "70/70 [==============================] - 1s 17ms/step - loss: 3.2331e-08\n",
            "Epoch 39/50\n",
            "70/70 [==============================] - 1s 17ms/step - loss: 3.1555e-08\n",
            "Epoch 40/50\n",
            "70/70 [==============================] - 1s 17ms/step - loss: 3.3684e-08\n",
            "Epoch 41/50\n",
            "70/70 [==============================] - 1s 17ms/step - loss: 3.4257e-08\n",
            "Epoch 42/50\n",
            "70/70 [==============================] - 1s 16ms/step - loss: 3.1265e-08\n",
            "Epoch 43/50\n",
            "70/70 [==============================] - 1s 17ms/step - loss: 3.5396e-08\n",
            "Epoch 44/50\n",
            "70/70 [==============================] - 1s 17ms/step - loss: 3.5392e-08\n",
            "Epoch 45/50\n",
            "70/70 [==============================] - 1s 17ms/step - loss: 3.3339e-08\n",
            "Epoch 46/50\n",
            "70/70 [==============================] - 1s 16ms/step - loss: 3.5225e-08\n",
            "Epoch 47/50\n",
            "70/70 [==============================] - 1s 16ms/step - loss: 3.3126e-08\n",
            "Epoch 48/50\n",
            "70/70 [==============================] - 1s 17ms/step - loss: 3.4058e-08\n",
            "Epoch 49/50\n",
            "70/70 [==============================] - 1s 17ms/step - loss: 3.2477e-08\n",
            "Epoch 50/50\n",
            "70/70 [==============================] - 1s 17ms/step - loss: 3.4652e-08\n",
            "Model: \"sequential\"\n",
            "_________________________________________________________________\n",
            " Layer (type)                Output Shape              Param #   \n",
            "=================================================================\n",
            " lstm (LSTM)                 (None, 15, 50)            10400     \n",
            "                                                                 \n",
            " lstm_1 (LSTM)               (None, 50)                20200     \n",
            "                                                                 \n",
            " dense (Dense)               (None, 1)                 51        \n",
            "                                                                 \n",
            "=================================================================\n",
            "Total params: 30,651\n",
            "Trainable params: 30,651\n",
            "Non-trainable params: 0\n",
            "_________________________________________________________________\n",
            "Epoch 1/50\n",
            "69/69 [==============================] - 3s 17ms/step - loss: 82.9616\n",
            "Epoch 2/50\n",
            "69/69 [==============================] - 1s 18ms/step - loss: 0.0207\n",
            "Epoch 3/50\n",
            "69/69 [==============================] - 1s 17ms/step - loss: 1.3517e-05\n",
            "Epoch 4/50\n",
            "69/69 [==============================] - 1s 17ms/step - loss: 3.2780e-07\n",
            "Epoch 5/50\n",
            "69/69 [==============================] - 1s 17ms/step - loss: 3.2019e-07\n",
            "Epoch 6/50\n",
            "69/69 [==============================] - 1s 17ms/step - loss: 3.0335e-07\n",
            "Epoch 7/50\n",
            "69/69 [==============================] - 1s 18ms/step - loss: 3.3322e-07\n",
            "Epoch 8/50\n",
            "69/69 [==============================] - 1s 17ms/step - loss: 3.1319e-07\n",
            "Epoch 9/50\n",
            "69/69 [==============================] - 1s 17ms/step - loss: 3.2073e-07\n",
            "Epoch 10/50\n",
            "69/69 [==============================] - 1s 17ms/step - loss: 3.3634e-07\n",
            "Epoch 11/50\n",
            "69/69 [==============================] - 1s 17ms/step - loss: 3.2763e-07\n",
            "Epoch 12/50\n",
            "69/69 [==============================] - 1s 17ms/step - loss: 3.1895e-07\n",
            "Epoch 13/50\n",
            "69/69 [==============================] - 1s 17ms/step - loss: 3.2852e-07\n",
            "Epoch 14/50\n",
            "69/69 [==============================] - 1s 17ms/step - loss: 3.2061e-07\n",
            "Epoch 15/50\n",
            "69/69 [==============================] - 1s 17ms/step - loss: 3.1282e-07\n",
            "Epoch 16/50\n",
            "69/69 [==============================] - 1s 17ms/step - loss: 3.3586e-07\n",
            "Epoch 17/50\n",
            "69/69 [==============================] - 1s 17ms/step - loss: 3.1894e-07\n",
            "Epoch 18/50\n",
            "69/69 [==============================] - 1s 17ms/step - loss: 3.0392e-07\n",
            "Epoch 19/50\n",
            "69/69 [==============================] - 1s 17ms/step - loss: 3.1194e-07\n",
            "Epoch 20/50\n",
            "69/69 [==============================] - 1s 17ms/step - loss: 3.2695e-07\n",
            "Epoch 21/50\n",
            "69/69 [==============================] - 1s 17ms/step - loss: 3.3010e-07\n",
            "Epoch 22/50\n",
            "69/69 [==============================] - 1s 18ms/step - loss: 3.3895e-07\n",
            "Epoch 23/50\n",
            "69/69 [==============================] - 1s 17ms/step - loss: 3.0102e-07\n",
            "Epoch 24/50\n",
            "69/69 [==============================] - 1s 17ms/step - loss: 3.2044e-07\n",
            "Epoch 25/50\n",
            "69/69 [==============================] - 1s 17ms/step - loss: 3.2032e-07\n",
            "Epoch 26/50\n",
            "69/69 [==============================] - 1s 17ms/step - loss: 3.1761e-07\n",
            "Epoch 27/50\n",
            "69/69 [==============================] - 1s 18ms/step - loss: 3.2337e-07\n",
            "Epoch 28/50\n",
            "69/69 [==============================] - 1s 17ms/step - loss: 3.1471e-07\n",
            "Epoch 29/50\n",
            "69/69 [==============================] - 1s 17ms/step - loss: 3.2152e-07\n",
            "Epoch 30/50\n",
            "69/69 [==============================] - 1s 17ms/step - loss: 3.2534e-07\n",
            "Epoch 31/50\n",
            "69/69 [==============================] - 1s 18ms/step - loss: 3.1129e-07\n",
            "Epoch 32/50\n",
            "69/69 [==============================] - 1s 18ms/step - loss: 3.2596e-07\n",
            "Epoch 33/50\n",
            "69/69 [==============================] - 1s 18ms/step - loss: 3.2267e-07\n",
            "Epoch 34/50\n",
            "69/69 [==============================] - 1s 17ms/step - loss: 3.3229e-07\n",
            "Epoch 35/50\n",
            "69/69 [==============================] - 1s 18ms/step - loss: 3.2741e-07\n",
            "Epoch 36/50\n",
            "69/69 [==============================] - 1s 18ms/step - loss: 3.1582e-07\n",
            "Epoch 37/50\n",
            "69/69 [==============================] - 1s 17ms/step - loss: 3.4158e-07\n",
            "Epoch 38/50\n",
            "69/69 [==============================] - 1s 18ms/step - loss: 3.0557e-07\n",
            "Epoch 39/50\n",
            "69/69 [==============================] - 1s 18ms/step - loss: 3.2219e-07\n",
            "Epoch 40/50\n",
            "69/69 [==============================] - 1s 17ms/step - loss: 3.1195e-07\n",
            "Epoch 41/50\n",
            "69/69 [==============================] - 1s 17ms/step - loss: 3.1440e-07\n",
            "Epoch 42/50\n",
            "69/69 [==============================] - 1s 17ms/step - loss: 3.3077e-07\n",
            "Epoch 43/50\n",
            "69/69 [==============================] - 1s 18ms/step - loss: 3.1398e-07\n",
            "Epoch 44/50\n",
            "69/69 [==============================] - 1s 17ms/step - loss: 3.0840e-07\n",
            "Epoch 45/50\n",
            "69/69 [==============================] - 1s 17ms/step - loss: 3.0347e-07\n",
            "Epoch 46/50\n",
            "69/69 [==============================] - 1s 18ms/step - loss: 3.3630e-07\n",
            "Epoch 47/50\n",
            "69/69 [==============================] - 1s 18ms/step - loss: 3.0715e-07\n",
            "Epoch 48/50\n",
            "69/69 [==============================] - 1s 17ms/step - loss: 3.2271e-07\n",
            "Epoch 49/50\n",
            "69/69 [==============================] - 1s 18ms/step - loss: 3.3657e-07\n",
            "Epoch 50/50\n",
            "69/69 [==============================] - 1s 17ms/step - loss: 3.2779e-07\n"
          ]
        },
        {
          "output_type": "execute_result",
          "data": {
            "text/plain": [
              "<matplotlib.legend.Legend at 0x7fdf3c05b590>"
            ]
          },
          "metadata": {},
          "execution_count": 186
        },
        {
          "output_type": "display_data",
          "data": {
            "text/plain": [
              "<Figure size 432x288 with 1 Axes>"
            ],
            "image/png": "[encoded data removed]"
          },
          "metadata": {}
        }
      ]
    },
    {
      "cell_type": "code",
      "source": [
        "# plt.plot(series_lat, color ='b', label= f'{future} sec future' )\n",
        "# plt.legend()"
      ],
      "metadata": {
        "id": "XCuqCpXmNEBE"
      },
      "execution_count": 187,
      "outputs": []
    },
    {
      "cell_type": "code",
      "source": [
        "# plt.plot(testPredict_lat, color='b', label=f'{future} sec future')\n",
        "# plt.plot(tl, color = 'r', label = 'Original')\n",
        "# plt.legend()"
      ],
      "metadata": {
        "id": "srxDLwhRkLJ-"
      },
      "execution_count": 188,
      "outputs": []
    },
    {
      "cell_type": "code",
      "source": [
        "# predict_all_lat = model.predict(test_data_preparation(series_lat, window_size=window_size, batch_size=batch_size))\n",
        "# plt.plot(series_lat, color ='b', label=  'Original )\n",
        "# plt.plot(predict_all_lat, color = 'r', label =f'{future} sec future'')\n",
        "# plt.legend()"
      ],
      "metadata": {
        "id": "HLPM2LkgX9QM"
      },
      "execution_count": 189,
      "outputs": []
    }
  ]
}