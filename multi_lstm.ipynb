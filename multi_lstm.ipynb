{
  "nbformat": 4,
  "nbformat_minor": 0,
  "metadata": {
    "colab": {
      "name": "multi-lstm.ipynb",
      "provenance": [],
      "authorship_tag": "ABX9TyOxE8oUYUvQkthV1V9vDpcJ",
      "include_colab_link": true
    },
    "kernelspec": {
      "name": "python3",
      "display_name": "Python 3"
    },
    "language_info": {
      "name": "python"
    },
    "accelerator": "GPU"
  },
  "cells": [
    {
      "cell_type": "markdown",
      "metadata": {
        "id": "view-in-github",
        "colab_type": "text"
      },
      "source": [
        "<a href=\"https://colab.research.google.com/github/SanjibSarkarU/colab-NN/blob/main/multi_lstm.ipynb\" target=\"_parent\"><img src=\"https://colab.research.google.com/assets/colab-badge.svg\" alt=\"Open In Colab\"/></a>"
      ]
    },
    {
      "cell_type": "code",
      "execution_count": 1,
      "metadata": {
        "colab": {
          "base_uri": "https://localhost:8080/"
        },
        "id": "L0y1dP3gXpTQ",
        "outputId": "a059f762-9dea-4044-eb56-3944e4c6ca42"
      },
      "outputs": [
        {
          "output_type": "stream",
          "name": "stdout",
          "text": [
            "Collecting tensorflow-gpu\n",
            "  Downloading tensorflow_gpu-2.8.0-cp37-cp37m-manylinux2010_x86_64.whl (497.5 MB)\n",
            "\u001b[K     |████████████████████████████████| 497.5 MB 24 kB/s \n",
            "\u001b[?25hRequirement already satisfied: flatbuffers>=1.12 in /usr/local/lib/python3.7/dist-packages (from tensorflow-gpu) (2.0)\n",
            "Requirement already satisfied: opt-einsum>=2.3.2 in /usr/local/lib/python3.7/dist-packages (from tensorflow-gpu) (3.3.0)\n",
            "Requirement already satisfied: gast>=0.2.1 in /usr/local/lib/python3.7/dist-packages (from tensorflow-gpu) (0.5.3)\n",
            "Requirement already satisfied: keras<2.9,>=2.8.0rc0 in /usr/local/lib/python3.7/dist-packages (from tensorflow-gpu) (2.8.0)\n",
            "Requirement already satisfied: keras-preprocessing>=1.1.1 in /usr/local/lib/python3.7/dist-packages (from tensorflow-gpu) (1.1.2)\n",
            "Requirement already satisfied: h5py>=2.9.0 in /usr/local/lib/python3.7/dist-packages (from tensorflow-gpu) (3.1.0)\n",
            "Requirement already satisfied: termcolor>=1.1.0 in /usr/local/lib/python3.7/dist-packages (from tensorflow-gpu) (1.1.0)\n",
            "Requirement already satisfied: setuptools in /usr/local/lib/python3.7/dist-packages (from tensorflow-gpu) (57.4.0)\n",
            "Requirement already satisfied: typing-extensions>=3.6.6 in /usr/local/lib/python3.7/dist-packages (from tensorflow-gpu) (3.10.0.2)\n",
            "Requirement already satisfied: absl-py>=0.4.0 in /usr/local/lib/python3.7/dist-packages (from tensorflow-gpu) (1.0.0)\n",
            "Requirement already satisfied: six>=1.12.0 in /usr/local/lib/python3.7/dist-packages (from tensorflow-gpu) (1.15.0)\n",
            "Requirement already satisfied: google-pasta>=0.1.1 in /usr/local/lib/python3.7/dist-packages (from tensorflow-gpu) (0.2.0)\n",
            "Requirement already satisfied: astunparse>=1.6.0 in /usr/local/lib/python3.7/dist-packages (from tensorflow-gpu) (1.6.3)\n",
            "Requirement already satisfied: grpcio<2.0,>=1.24.3 in /usr/local/lib/python3.7/dist-packages (from tensorflow-gpu) (1.44.0)\n",
            "Requirement already satisfied: tensorboard<2.9,>=2.8 in /usr/local/lib/python3.7/dist-packages (from tensorflow-gpu) (2.8.0)\n",
            "Requirement already satisfied: numpy>=1.20 in /usr/local/lib/python3.7/dist-packages (from tensorflow-gpu) (1.21.5)\n",
            "Requirement already satisfied: wrapt>=1.11.0 in /usr/local/lib/python3.7/dist-packages (from tensorflow-gpu) (1.14.0)\n",
            "Requirement already satisfied: tensorflow-io-gcs-filesystem>=0.23.1 in /usr/local/lib/python3.7/dist-packages (from tensorflow-gpu) (0.24.0)\n",
            "Requirement already satisfied: protobuf>=3.9.2 in /usr/local/lib/python3.7/dist-packages (from tensorflow-gpu) (3.17.3)\n",
            "Collecting tf-estimator-nightly==2.8.0.dev2021122109\n",
            "  Downloading tf_estimator_nightly-2.8.0.dev2021122109-py2.py3-none-any.whl (462 kB)\n",
            "\u001b[K     |████████████████████████████████| 462 kB 70.1 MB/s \n",
            "\u001b[?25hRequirement already satisfied: libclang>=9.0.1 in /usr/local/lib/python3.7/dist-packages (from tensorflow-gpu) (13.0.0)\n",
            "Requirement already satisfied: wheel<1.0,>=0.23.0 in /usr/local/lib/python3.7/dist-packages (from astunparse>=1.6.0->tensorflow-gpu) (0.37.1)\n",
            "Requirement already satisfied: cached-property in /usr/local/lib/python3.7/dist-packages (from h5py>=2.9.0->tensorflow-gpu) (1.5.2)\n",
            "Requirement already satisfied: markdown>=2.6.8 in /usr/local/lib/python3.7/dist-packages (from tensorboard<2.9,>=2.8->tensorflow-gpu) (3.3.6)\n",
            "Requirement already satisfied: requests<3,>=2.21.0 in /usr/local/lib/python3.7/dist-packages (from tensorboard<2.9,>=2.8->tensorflow-gpu) (2.23.0)\n",
            "Requirement already satisfied: tensorboard-data-server<0.7.0,>=0.6.0 in /usr/local/lib/python3.7/dist-packages (from tensorboard<2.9,>=2.8->tensorflow-gpu) (0.6.1)\n",
            "Requirement already satisfied: werkzeug>=0.11.15 in /usr/local/lib/python3.7/dist-packages (from tensorboard<2.9,>=2.8->tensorflow-gpu) (1.0.1)\n",
            "Requirement already satisfied: tensorboard-plugin-wit>=1.6.0 in /usr/local/lib/python3.7/dist-packages (from tensorboard<2.9,>=2.8->tensorflow-gpu) (1.8.1)\n",
            "Requirement already satisfied: google-auth<3,>=1.6.3 in /usr/local/lib/python3.7/dist-packages (from tensorboard<2.9,>=2.8->tensorflow-gpu) (1.35.0)\n",
            "Requirement already satisfied: google-auth-oauthlib<0.5,>=0.4.1 in /usr/local/lib/python3.7/dist-packages (from tensorboard<2.9,>=2.8->tensorflow-gpu) (0.4.6)\n",
            "Requirement already satisfied: cachetools<5.0,>=2.0.0 in /usr/local/lib/python3.7/dist-packages (from google-auth<3,>=1.6.3->tensorboard<2.9,>=2.8->tensorflow-gpu) (4.2.4)\n",
            "Requirement already satisfied: rsa<5,>=3.1.4 in /usr/local/lib/python3.7/dist-packages (from google-auth<3,>=1.6.3->tensorboard<2.9,>=2.8->tensorflow-gpu) (4.8)\n",
            "Requirement already satisfied: pyasn1-modules>=0.2.1 in /usr/local/lib/python3.7/dist-packages (from google-auth<3,>=1.6.3->tensorboard<2.9,>=2.8->tensorflow-gpu) (0.2.8)\n",
            "Requirement already satisfied: requests-oauthlib>=0.7.0 in /usr/local/lib/python3.7/dist-packages (from google-auth-oauthlib<0.5,>=0.4.1->tensorboard<2.9,>=2.8->tensorflow-gpu) (1.3.1)\n",
            "Requirement already satisfied: importlib-metadata>=4.4 in /usr/local/lib/python3.7/dist-packages (from markdown>=2.6.8->tensorboard<2.9,>=2.8->tensorflow-gpu) (4.11.3)\n",
            "Requirement already satisfied: zipp>=0.5 in /usr/local/lib/python3.7/dist-packages (from importlib-metadata>=4.4->markdown>=2.6.8->tensorboard<2.9,>=2.8->tensorflow-gpu) (3.7.0)\n",
            "Requirement already satisfied: pyasn1<0.5.0,>=0.4.6 in /usr/local/lib/python3.7/dist-packages (from pyasn1-modules>=0.2.1->google-auth<3,>=1.6.3->tensorboard<2.9,>=2.8->tensorflow-gpu) (0.4.8)\n",
            "Requirement already satisfied: certifi>=2017.4.17 in /usr/local/lib/python3.7/dist-packages (from requests<3,>=2.21.0->tensorboard<2.9,>=2.8->tensorflow-gpu) (2021.10.8)\n",
            "Requirement already satisfied: idna<3,>=2.5 in /usr/local/lib/python3.7/dist-packages (from requests<3,>=2.21.0->tensorboard<2.9,>=2.8->tensorflow-gpu) (2.10)\n",
            "Requirement already satisfied: urllib3!=1.25.0,!=1.25.1,<1.26,>=1.21.1 in /usr/local/lib/python3.7/dist-packages (from requests<3,>=2.21.0->tensorboard<2.9,>=2.8->tensorflow-gpu) (1.24.3)\n",
            "Requirement already satisfied: chardet<4,>=3.0.2 in /usr/local/lib/python3.7/dist-packages (from requests<3,>=2.21.0->tensorboard<2.9,>=2.8->tensorflow-gpu) (3.0.4)\n",
            "Requirement already satisfied: oauthlib>=3.0.0 in /usr/local/lib/python3.7/dist-packages (from requests-oauthlib>=0.7.0->google-auth-oauthlib<0.5,>=0.4.1->tensorboard<2.9,>=2.8->tensorflow-gpu) (3.2.0)\n",
            "Installing collected packages: tf-estimator-nightly, tensorflow-gpu\n",
            "Successfully installed tensorflow-gpu-2.8.0 tf-estimator-nightly-2.8.0.dev2021122109\n"
          ]
        }
      ],
      "source": [
        "!pip install tensorflow-gpu"
      ]
    },
    {
      "cell_type": "code",
      "source": [
        "!pip install pymap3d"
      ],
      "metadata": {
        "id": "k-RRDKqqZOGO",
        "outputId": "26d02b7f-a20a-4840-cc4a-558fab4a0efd",
        "colab": {
          "base_uri": "https://localhost:8080/"
        }
      },
      "execution_count": 2,
      "outputs": [
        {
          "output_type": "stream",
          "name": "stdout",
          "text": [
            "Collecting pymap3d\n",
            "  Downloading pymap3d-2.7.2.tar.gz (41 kB)\n",
            "\u001b[?25l\r\u001b[K     |███████▉                        | 10 kB 18.1 MB/s eta 0:00:01\r\u001b[K     |███████████████▊                | 20 kB 9.5 MB/s eta 0:00:01\r\u001b[K     |███████████████████████▌        | 30 kB 8.8 MB/s eta 0:00:01\r\u001b[K     |███████████████████████████████▍| 40 kB 7.7 MB/s eta 0:00:01\r\u001b[K     |████████████████████████████████| 41 kB 334 kB/s \n",
            "\u001b[?25h  Installing build dependencies ... \u001b[?25l\u001b[?25hdone\n",
            "  Getting requirements to build wheel ... \u001b[?25l\u001b[?25hdone\n",
            "    Preparing wheel metadata ... \u001b[?25l\u001b[?25hdone\n",
            "Building wheels for collected packages: pymap3d\n",
            "  Building wheel for pymap3d (PEP 517) ... \u001b[?25l\u001b[?25hdone\n",
            "  Created wheel for pymap3d: filename=pymap3d-2.7.2-py3-none-any.whl size=51818 sha256=f07b30335336f3ecc727bef8de7deaf681f300722da11122de2aca6f8c3aed49\n",
            "  Stored in directory: /root/.cache/pip/wheels/b6/3f/e7/8ed2f9bc0be1c7e528c9932194d4e9350c969a2c6f2b63f15b\n",
            "Successfully built pymap3d\n",
            "Installing collected packages: pymap3d\n",
            "Successfully installed pymap3d-2.7.2\n"
          ]
        }
      ]
    },
    {
      "cell_type": "code",
      "source": [
        "import numpy as np\n",
        "import tensorflow as tf\n",
        "# from tensorflow.keras.models import Sequential\n",
        "import pandas as pd\n",
        "from matplotlib import pyplot as plt\n",
        "import matplotlib.colors as pltc\n",
        "from keras.models import Sequential\n",
        "from keras.layers import Dense, LSTM, SimpleRNN\n",
        "from keras.preprocessing.sequence import TimeseriesGenerator\n",
        "from sklearn.preprocessing import StandardScaler\n",
        "from sklearn.metrics import mean_squared_error\n",
        "import pymap3d as pm\n",
        "plt.style.use('dark_background')\n",
        "colors = [k for k,v in pltc.cnames.items()]"
      ],
      "metadata": {
        "id": "nFPfFHxPX_nq"
      },
      "execution_count": 3,
      "outputs": []
    },
    {
      "cell_type": "code",
      "source": [
        "df = pd.read_csv('20220222_153859_hlc.csv', skiprows=1)\n",
        "df = df.rename(columns={\"Latitude (Deg N)\": 'lat', \"Longitude (Deg W)\": 'lng'}, errors=\"raise\")\n",
        "df = df.loc[(df['lat'] != 0)]\n",
        "df['h'] = 0\n",
        "# df.set_index([i for i in range(0, len(df.lat)-1)], inplace=True)"
      ],
      "metadata": {
        "id": "EZj6UNIFYEgM"
      },
      "execution_count": 4,
      "outputs": []
    },
    {
      "cell_type": "code",
      "source": [
        "index = int(len(df.lat)/2)"
      ],
      "metadata": {
        "id": "xKUrHepM5wRn"
      },
      "execution_count": 8,
      "outputs": []
    },
    {
      "cell_type": "code",
      "source": [
        "# index"
      ],
      "metadata": {
        "id": "Lo00QYyR59fu"
      },
      "execution_count": 9,
      "outputs": []
    },
    {
      "cell_type": "code",
      "source": [
        "# df['lat'] = df['lat']-30\n",
        "# df['lng'] = df['lng'] + 89"
      ],
      "metadata": {
        "id": "vrVkBlYqFz4M"
      },
      "execution_count": 10,
      "outputs": []
    },
    {
      "cell_type": "code",
      "source": [
        "' Convert to local coordinate system'\n",
        "index = 12224\n",
        "df['e'], df['n'], df['u'] = pm.geodetic2enu(df.lat, df.lng, df.h, df.lat[index],\n",
        "                                                    df.lng[index], df.h[index], ell=None, deg=True)\n",
        "df.head(5)"
      ],
      "metadata": {
        "id": "GXnD9qH4ZewY",
        "outputId": "a59f8a81-d57e-4091-91e4-f8229057e4aa",
        "colab": {
          "base_uri": "https://localhost:8080/",
          "height": 334
        }
      },
      "execution_count": 11,
      "outputs": [
        {
          "output_type": "execute_result",
          "data": {
            "text/plain": [
              "   Date (mm/dd/yyyy)          Time  Num Satellites  Position Uncertainty (m)  \\\n",
              "84        02/22/2022  15:40:32.999               8                         3   \n",
              "85        02/22/2022  15:40:33.799               8                         3   \n",
              "86        02/22/2022  15:40:35.999               9                         3   \n",
              "87        02/22/2022  15:40:37.000               9                         3   \n",
              "88        02/22/2022  15:40:37.999               9                         3   \n",
              "\n",
              "          lat        lng  Speed (kts)  Heading (Deg N)  Course (Deg N)  \\\n",
              "84  30.366409 -89.622612        29.89            226.0           269.4   \n",
              "85  30.366408 -89.622765        28.79            225.9           269.4   \n",
              "86  30.366407 -89.623054        24.93            225.9           269.1   \n",
              "87  30.366405 -89.623188        22.74            226.2           269.4   \n",
              "88  30.366404 -89.623302        21.17            226.5           269.7   \n",
              "\n",
              "    OCB Temp (C)  ...  Volts stbd  Amps stbd  charge (%) stbd  \\\n",
              "84          43.2  ...         0.0        0.0              0.0   \n",
              "85          43.3  ...         0.0        0.0              0.0   \n",
              "86          43.2  ...         0.0        0.0              0.0   \n",
              "87          43.3  ...         0.0        0.0              0.0   \n",
              "88          43.3  ...         0.0        0.0              0.0   \n",
              "\n",
              "    StatorTemp (C) stbd  PCBTep (C) stbd  Error Code stbd  h           e  \\\n",
              "84                  0.0              0.0              0x0  0  586.688202   \n",
              "85                  0.0              0.0              0x0  0  571.988991   \n",
              "86                  0.0              0.0              0x0  0  544.144988   \n",
              "87                  0.0              0.0              0x0  0  531.277053   \n",
              "88                  0.0              0.0              0x0  0  520.329788   \n",
              "\n",
              "              n         u  \n",
              "84  1586.637310 -0.225128  \n",
              "85  1586.537864 -0.223769  \n",
              "86  1586.324699 -0.221282  \n",
              "87  1586.178839 -0.220161  \n",
              "88  1586.091841 -0.219238  \n",
              "\n",
              "[5 rows x 37 columns]"
            ],
            "text/html": [
              "\n",
              "  <div id=\"df-cf0451b1-ed3e-4bb0-8e19-c59cb3421a2a\">\n",
              "    <div class=\"colab-df-container\">\n",
              "      <div>\n",
              "<style scoped>\n",
              "    .dataframe tbody tr th:only-of-type {\n",
              "        vertical-align: middle;\n",
              "    }\n",
              "\n",
              "    .dataframe tbody tr th {\n",
              "        vertical-align: top;\n",
              "    }\n",
              "\n",
              "    .dataframe thead th {\n",
              "        text-align: right;\n",
              "    }\n",
              "</style>\n",
              "<table border=\"1\" class=\"dataframe\">\n",
              "  <thead>\n",
              "    <tr style=\"text-align: right;\">\n",
              "      <th></th>\n",
              "      <th>Date (mm/dd/yyyy)</th>\n",
              "      <th>Time</th>\n",
              "      <th>Num Satellites</th>\n",
              "      <th>Position Uncertainty (m)</th>\n",
              "      <th>lat</th>\n",
              "      <th>lng</th>\n",
              "      <th>Speed (kts)</th>\n",
              "      <th>Heading (Deg N)</th>\n",
              "      <th>Course (Deg N)</th>\n",
              "      <th>OCB Temp (C)</th>\n",
              "      <th>...</th>\n",
              "      <th>Volts stbd</th>\n",
              "      <th>Amps stbd</th>\n",
              "      <th>charge (%) stbd</th>\n",
              "      <th>StatorTemp (C) stbd</th>\n",
              "      <th>PCBTep (C) stbd</th>\n",
              "      <th>Error Code stbd</th>\n",
              "      <th>h</th>\n",
              "      <th>e</th>\n",
              "      <th>n</th>\n",
              "      <th>u</th>\n",
              "    </tr>\n",
              "  </thead>\n",
              "  <tbody>\n",
              "    <tr>\n",
              "      <th>84</th>\n",
              "      <td>02/22/2022</td>\n",
              "      <td>15:40:32.999</td>\n",
              "      <td>8</td>\n",
              "      <td>3</td>\n",
              "      <td>30.366409</td>\n",
              "      <td>-89.622612</td>\n",
              "      <td>29.89</td>\n",
              "      <td>226.0</td>\n",
              "      <td>269.4</td>\n",
              "      <td>43.2</td>\n",
              "      <td>...</td>\n",
              "      <td>0.0</td>\n",
              "      <td>0.0</td>\n",
              "      <td>0.0</td>\n",
              "      <td>0.0</td>\n",
              "      <td>0.0</td>\n",
              "      <td>0x0</td>\n",
              "      <td>0</td>\n",
              "      <td>586.688202</td>\n",
              "      <td>1586.637310</td>\n",
              "      <td>-0.225128</td>\n",
              "    </tr>\n",
              "    <tr>\n",
              "      <th>85</th>\n",
              "      <td>02/22/2022</td>\n",
              "      <td>15:40:33.799</td>\n",
              "      <td>8</td>\n",
              "      <td>3</td>\n",
              "      <td>30.366408</td>\n",
              "      <td>-89.622765</td>\n",
              "      <td>28.79</td>\n",
              "      <td>225.9</td>\n",
              "      <td>269.4</td>\n",
              "      <td>43.3</td>\n",
              "      <td>...</td>\n",
              "      <td>0.0</td>\n",
              "      <td>0.0</td>\n",
              "      <td>0.0</td>\n",
              "      <td>0.0</td>\n",
              "      <td>0.0</td>\n",
              "      <td>0x0</td>\n",
              "      <td>0</td>\n",
              "      <td>571.988991</td>\n",
              "      <td>1586.537864</td>\n",
              "      <td>-0.223769</td>\n",
              "    </tr>\n",
              "    <tr>\n",
              "      <th>86</th>\n",
              "      <td>02/22/2022</td>\n",
              "      <td>15:40:35.999</td>\n",
              "      <td>9</td>\n",
              "      <td>3</td>\n",
              "      <td>30.366407</td>\n",
              "      <td>-89.623054</td>\n",
              "      <td>24.93</td>\n",
              "      <td>225.9</td>\n",
              "      <td>269.1</td>\n",
              "      <td>43.2</td>\n",
              "      <td>...</td>\n",
              "      <td>0.0</td>\n",
              "      <td>0.0</td>\n",
              "      <td>0.0</td>\n",
              "      <td>0.0</td>\n",
              "      <td>0.0</td>\n",
              "      <td>0x0</td>\n",
              "      <td>0</td>\n",
              "      <td>544.144988</td>\n",
              "      <td>1586.324699</td>\n",
              "      <td>-0.221282</td>\n",
              "    </tr>\n",
              "    <tr>\n",
              "      <th>87</th>\n",
              "      <td>02/22/2022</td>\n",
              "      <td>15:40:37.000</td>\n",
              "      <td>9</td>\n",
              "      <td>3</td>\n",
              "      <td>30.366405</td>\n",
              "      <td>-89.623188</td>\n",
              "      <td>22.74</td>\n",
              "      <td>226.2</td>\n",
              "      <td>269.4</td>\n",
              "      <td>43.3</td>\n",
              "      <td>...</td>\n",
              "      <td>0.0</td>\n",
              "      <td>0.0</td>\n",
              "      <td>0.0</td>\n",
              "      <td>0.0</td>\n",
              "      <td>0.0</td>\n",
              "      <td>0x0</td>\n",
              "      <td>0</td>\n",
              "      <td>531.277053</td>\n",
              "      <td>1586.178839</td>\n",
              "      <td>-0.220161</td>\n",
              "    </tr>\n",
              "    <tr>\n",
              "      <th>88</th>\n",
              "      <td>02/22/2022</td>\n",
              "      <td>15:40:37.999</td>\n",
              "      <td>9</td>\n",
              "      <td>3</td>\n",
              "      <td>30.366404</td>\n",
              "      <td>-89.623302</td>\n",
              "      <td>21.17</td>\n",
              "      <td>226.5</td>\n",
              "      <td>269.7</td>\n",
              "      <td>43.3</td>\n",
              "      <td>...</td>\n",
              "      <td>0.0</td>\n",
              "      <td>0.0</td>\n",
              "      <td>0.0</td>\n",
              "      <td>0.0</td>\n",
              "      <td>0.0</td>\n",
              "      <td>0x0</td>\n",
              "      <td>0</td>\n",
              "      <td>520.329788</td>\n",
              "      <td>1586.091841</td>\n",
              "      <td>-0.219238</td>\n",
              "    </tr>\n",
              "  </tbody>\n",
              "</table>\n",
              "<p>5 rows × 37 columns</p>\n",
              "</div>\n",
              "      <button class=\"colab-df-convert\" onclick=\"convertToInteractive('df-cf0451b1-ed3e-4bb0-8e19-c59cb3421a2a')\"\n",
              "              title=\"Convert this dataframe to an interactive table.\"\n",
              "              style=\"display:none;\">\n",
              "        \n",
              "  <svg xmlns=\"http://www.w3.org/2000/svg\" height=\"24px\"viewBox=\"0 0 24 24\"\n",
              "       width=\"24px\">\n",
              "    <path d=\"M0 0h24v24H0V0z\" fill=\"none\"/>\n",
              "    <path d=\"M18.56 5.44l.94 2.06.94-2.06 2.06-.94-2.06-.94-.94-2.06-.94 2.06-2.06.94zm-11 1L8.5 8.5l.94-2.06 2.06-.94-2.06-.94L8.5 2.5l-.94 2.06-2.06.94zm10 10l.94 2.06.94-2.06 2.06-.94-2.06-.94-.94-2.06-.94 2.06-2.06.94z\"/><path d=\"M17.41 7.96l-1.37-1.37c-.4-.4-.92-.59-1.43-.59-.52 0-1.04.2-1.43.59L10.3 9.45l-7.72 7.72c-.78.78-.78 2.05 0 2.83L4 21.41c.39.39.9.59 1.41.59.51 0 1.02-.2 1.41-.59l7.78-7.78 2.81-2.81c.8-.78.8-2.07 0-2.86zM5.41 20L4 18.59l7.72-7.72 1.47 1.35L5.41 20z\"/>\n",
              "  </svg>\n",
              "      </button>\n",
              "      \n",
              "  <style>\n",
              "    .colab-df-container {\n",
              "      display:flex;\n",
              "      flex-wrap:wrap;\n",
              "      gap: 12px;\n",
              "    }\n",
              "\n",
              "    .colab-df-convert {\n",
              "      background-color: #E8F0FE;\n",
              "      border: none;\n",
              "      border-radius: 50%;\n",
              "      cursor: pointer;\n",
              "      display: none;\n",
              "      fill: #1967D2;\n",
              "      height: 32px;\n",
              "      padding: 0 0 0 0;\n",
              "      width: 32px;\n",
              "    }\n",
              "\n",
              "    .colab-df-convert:hover {\n",
              "      background-color: #E2EBFA;\n",
              "      box-shadow: 0px 1px 2px rgba(60, 64, 67, 0.3), 0px 1px 3px 1px rgba(60, 64, 67, 0.15);\n",
              "      fill: #174EA6;\n",
              "    }\n",
              "\n",
              "    [theme=dark] .colab-df-convert {\n",
              "      background-color: #3B4455;\n",
              "      fill: #D2E3FC;\n",
              "    }\n",
              "\n",
              "    [theme=dark] .colab-df-convert:hover {\n",
              "      background-color: #434B5C;\n",
              "      box-shadow: 0px 1px 3px 1px rgba(0, 0, 0, 0.15);\n",
              "      filter: drop-shadow(0px 1px 2px rgba(0, 0, 0, 0.3));\n",
              "      fill: #FFFFFF;\n",
              "    }\n",
              "  </style>\n",
              "\n",
              "      <script>\n",
              "        const buttonEl =\n",
              "          document.querySelector('#df-cf0451b1-ed3e-4bb0-8e19-c59cb3421a2a button.colab-df-convert');\n",
              "        buttonEl.style.display =\n",
              "          google.colab.kernel.accessAllowed ? 'block' : 'none';\n",
              "\n",
              "        async function convertToInteractive(key) {\n",
              "          const element = document.querySelector('#df-cf0451b1-ed3e-4bb0-8e19-c59cb3421a2a');\n",
              "          const dataTable =\n",
              "            await google.colab.kernel.invokeFunction('convertToInteractive',\n",
              "                                                     [key], {});\n",
              "          if (!dataTable) return;\n",
              "\n",
              "          const docLinkHtml = 'Like what you see? Visit the ' +\n",
              "            '<a target=\"_blank\" href=https://colab.research.google.com/notebooks/data_table.ipynb>data table notebook</a>'\n",
              "            + ' to learn more about interactive tables.';\n",
              "          element.innerHTML = '';\n",
              "          dataTable['output_type'] = 'display_data';\n",
              "          await google.colab.output.renderOutput(dataTable, element);\n",
              "          const docLink = document.createElement('div');\n",
              "          docLink.innerHTML = docLinkHtml;\n",
              "          element.appendChild(docLink);\n",
              "        }\n",
              "      </script>\n",
              "    </div>\n",
              "  </div>\n",
              "  "
            ]
          },
          "metadata": {},
          "execution_count": 11
        }
      ]
    },
    {
      "cell_type": "code",
      "source": [
        ""
      ],
      "metadata": {
        "id": "ZDJYw-lRHKDA"
      },
      "execution_count": 11,
      "outputs": []
    },
    {
      "cell_type": "code",
      "source": [
        "print(f'Latitude min:{df.e.min()}, Latitude max:{df.e.max()},\\nLongitude min:{df.n.min()}, Longitude max:{df.n.max()}')"
      ],
      "metadata": {
        "id": "_7ogmX4hbBrb",
        "outputId": "10d855f8-c25c-4bdf-8fe3-b90f1a3efefa",
        "colab": {
          "base_uri": "https://localhost:8080/"
        }
      },
      "execution_count": 12,
      "outputs": [
        {
          "output_type": "stream",
          "name": "stdout",
          "text": [
            "Latitude min:-203.51402781846963, Latitude max:586.6882018505993,\n",
            "Longitude min:-97.97658013115907, Longitude max:1586.975882221139\n"
          ]
        }
      ]
    },
    {
      "cell_type": "code",
      "source": [
        "start = 10500\n",
        "end = 13700\n",
        "lat = df.lat[start:end]\n",
        "lng = df.lng[start:end]\n",
        "\n",
        "series_time = df.Time[start:end].to_list\n",
        "series_lat = df.e[start:end]\n",
        "series_lng = df.n[start:end]\n",
        "\n",
        "# series_time = df.Time[start:end].to_list\n",
        "# series_lat = df.lat[start:end]\n",
        "# series_lng = df.lng[start:end]\n",
        "\n",
        "coordinates = [[i,j] for i,j in zip(series_lat, series_lng)]\n",
        "coordinates= np.array(coordinates)\n",
        "# print(coordinates[:10])"
      ],
      "metadata": {
        "id": "ZIbl72K9kCT7"
      },
      "execution_count": 13,
      "outputs": []
    },
    {
      "cell_type": "code",
      "source": [
        "# 'Compare before and after local converstion'\n",
        "# ' Back to lag lng'\n",
        "# df['back_lat'], df['back_lng'], _ = pm.enu2geodetic(df.e, df.n, df.u, df.lat[84],\n",
        "#                                                     df.lng[84], df.h[84], ell=None, deg=True)"
      ],
      "metadata": {
        "id": "_R49HPa6HWId"
      },
      "execution_count": 14,
      "outputs": []
    },
    {
      "cell_type": "code",
      "source": [
        "# df.head(5)"
      ],
      "metadata": {
        "id": "3Hyx-rurIAsC"
      },
      "execution_count": 15,
      "outputs": []
    },
    {
      "cell_type": "code",
      "source": [
        "# type(coordinates)"
      ],
      "metadata": {
        "id": "71ELqtK0vViq"
      },
      "execution_count": 16,
      "outputs": []
    },
    {
      "cell_type": "code",
      "source": [
        "def ts_data_preparation(features, window=5, future=1, batch=1, shuffle=False):\n",
        "    target = features[(future - 1):]\n",
        "    features = features[:-(future - 1)] if future != 1 else features\n",
        "    tensor = TimeseriesGenerator(features, target, length=window, batch_size=batch, shuffle=shuffle)\n",
        "    return tensor"
      ],
      "metadata": {
        "id": "ze4nayqzl8ea"
      },
      "execution_count": 17,
      "outputs": []
    },
    {
      "cell_type": "code",
      "source": [
        "def test_data_preparation(series, window_size, batch_size):\n",
        "    dataset = tf.data.Dataset.from_tensor_slices(series)\n",
        "    dataset = dataset.window(window_size, shift=1, drop_remainder=True)\n",
        "    dataset = dataset.flat_map(lambda window: window.batch(window_size))\n",
        "    # dataset = dataset.shuffle(shuffle_buffer).map(lambda window: (window[:-1], window[-1:]))\n",
        "    dataset = dataset.batch(batch_size).prefetch(1)\n",
        "    return dataset"
      ],
      "metadata": {
        "id": "VdEzU5XnmeO1"
      },
      "execution_count": 18,
      "outputs": []
    },
    {
      "cell_type": "code",
      "source": [
        "def train_test_split(dataset, percentage):\n",
        "    train_size = int(len(dataset) * percentage)\n",
        "    # test_size = len(dataset) - train_size\n",
        "    train, test = dataset[0:train_size, :], dataset[train_size:len(dataset), :]\n",
        "    return train, test"
      ],
      "metadata": {
        "id": "OuBeuRPVmUTp"
      },
      "execution_count": 19,
      "outputs": []
    },
    {
      "cell_type": "code",
      "source": [
        "# create scaler\n",
        "scaler = StandardScaler()\n",
        "# fit scaler on data\n",
        "scaler.fit(coordinates)\n",
        "# apply transform\n",
        "coordinates = scaler.transform(coordinates)"
      ],
      "metadata": {
        "id": "ltgziEq0ZNaS"
      },
      "execution_count": 20,
      "outputs": []
    },
    {
      "cell_type": "code",
      "source": [
        "# coordinates[0:10]"
      ],
      "metadata": {
        "id": "KYxPNb-8Zr2B"
      },
      "execution_count": 21,
      "outputs": []
    },
    {
      "cell_type": "code",
      "source": [
        "# # inverse transform\n",
        "# inverse = scaler.inverse_transform(coordinates)\n",
        "# inverse[:10]"
      ],
      "metadata": {
        "id": "VqRkkbg0Z-L5"
      },
      "execution_count": 22,
      "outputs": []
    },
    {
      "cell_type": "code",
      "source": [
        "train_coor, test_coor = train_test_split(coordinates, 0.7)"
      ],
      "metadata": {
        "id": "_gnEWsrZl-6E"
      },
      "execution_count": 23,
      "outputs": []
    },
    {
      "cell_type": "code",
      "source": [
        "# train_coor[:10]  #.shape, test_coor.shape"
      ],
      "metadata": {
        "id": "_sABcK4pm1t7"
      },
      "execution_count": 24,
      "outputs": []
    },
    {
      "cell_type": "code",
      "source": [
        "window_size = 20\n",
        "future = 1\n",
        "batch_size = 32"
      ],
      "metadata": {
        "id": "HdeTQEbNnZA2"
      },
      "execution_count": 25,
      "outputs": []
    },
    {
      "cell_type": "code",
      "source": [
        "train_coor = ts_data_preparation(train_coor, window=window_size, future=future, batch=batch_size, shuffle=True)"
      ],
      "metadata": {
        "id": "k18mUnT9nhXw"
      },
      "execution_count": 26,
      "outputs": []
    },
    {
      "cell_type": "code",
      "source": [
        "# train_coor[1]"
      ],
      "metadata": {
        "id": "aV35IfC2oHJ4"
      },
      "execution_count": 27,
      "outputs": []
    },
    {
      "cell_type": "code",
      "source": [
        "def model_lstm(w_size):\n",
        "    units = 64\n",
        "    tf.keras.backend.clear_session()\n",
        "    model = tf.keras.models.Sequential([\n",
        "        tf.keras.layers.LSTM(units, activation='relu', return_sequences=True, input_shape=(w_size, 2)),\n",
        "        tf.keras.layers.LSTM(units, activation='relu'),\n",
        "        tf.keras.layers.Dense(2, activation='linear')])\n",
        "    model.compile(optimizer=tf.keras.optimizers.SGD(learning_rate=0.0002, momentum=0.9),\n",
        "                  loss='mse')\n",
        "    model.summary()\n",
        "    return model"
      ],
      "metadata": {
        "id": "n-9ZYz1S3jiv"
      },
      "execution_count": 28,
      "outputs": []
    },
    {
      "cell_type": "code",
      "source": [
        "model = model_lstm(window_size)\n",
        "\n",
        "epochs = 120\n",
        "\n",
        "model.fit(train_coor, epochs=epochs, verbose=1)"
      ],
      "metadata": {
        "colab": {
          "base_uri": "https://localhost:8080/"
        },
        "id": "_0VUJuZ54Qn5",
        "outputId": "88565d45-29ca-4f0a-9dfc-8a34902ac0b7"
      },
      "execution_count": 29,
      "outputs": [
        {
          "output_type": "stream",
          "name": "stdout",
          "text": [
            "Model: \"sequential\"\n",
            "_________________________________________________________________\n",
            " Layer (type)                Output Shape              Param #   \n",
            "=================================================================\n",
            " lstm (LSTM)                 (None, 20, 64)            17152     \n",
            "                                                                 \n",
            " lstm_1 (LSTM)               (None, 64)                33024     \n",
            "                                                                 \n",
            " dense (Dense)               (None, 2)                 130       \n",
            "                                                                 \n",
            "=================================================================\n",
            "Total params: 50,306\n",
            "Trainable params: 50,306\n",
            "Non-trainable params: 0\n",
            "_________________________________________________________________\n",
            "Epoch 1/120\n",
            "70/70 [==============================] - 4s 26ms/step - loss: 0.8367\n",
            "Epoch 2/120\n",
            "70/70 [==============================] - 2s 26ms/step - loss: 0.7826\n",
            "Epoch 3/120\n",
            "70/70 [==============================] - 2s 26ms/step - loss: 0.6457\n",
            "Epoch 4/120\n",
            "70/70 [==============================] - 2s 26ms/step - loss: 0.4464\n",
            "Epoch 5/120\n",
            "70/70 [==============================] - 2s 25ms/step - loss: 0.2900\n",
            "Epoch 6/120\n",
            "70/70 [==============================] - 2s 26ms/step - loss: 0.2367\n",
            "Epoch 7/120\n",
            "70/70 [==============================] - 2s 25ms/step - loss: 0.2038\n",
            "Epoch 8/120\n",
            "70/70 [==============================] - 2s 26ms/step - loss: 0.1865\n",
            "Epoch 9/120\n",
            "70/70 [==============================] - 2s 26ms/step - loss: 0.1737\n",
            "Epoch 10/120\n",
            "70/70 [==============================] - 2s 27ms/step - loss: 0.1488\n",
            "Epoch 11/120\n",
            "70/70 [==============================] - 2s 26ms/step - loss: 0.1456\n",
            "Epoch 12/120\n",
            "70/70 [==============================] - 2s 26ms/step - loss: 0.1262\n",
            "Epoch 13/120\n",
            "70/70 [==============================] - 2s 25ms/step - loss: 0.1216\n",
            "Epoch 14/120\n",
            "70/70 [==============================] - 2s 26ms/step - loss: 0.1102\n",
            "Epoch 15/120\n",
            "70/70 [==============================] - 2s 30ms/step - loss: 0.1048\n",
            "Epoch 16/120\n",
            "70/70 [==============================] - 3s 36ms/step - loss: 0.0925\n",
            "Epoch 17/120\n",
            "70/70 [==============================] - 2s 25ms/step - loss: 0.0943\n",
            "Epoch 18/120\n",
            "70/70 [==============================] - 2s 26ms/step - loss: 0.0866\n",
            "Epoch 19/120\n",
            "70/70 [==============================] - 3s 36ms/step - loss: 0.0749\n",
            "Epoch 20/120\n",
            "70/70 [==============================] - 2s 25ms/step - loss: 0.0744\n",
            "Epoch 21/120\n",
            "70/70 [==============================] - 2s 26ms/step - loss: 0.0713\n",
            "Epoch 22/120\n",
            "70/70 [==============================] - 2s 25ms/step - loss: 0.0631\n",
            "Epoch 23/120\n",
            "70/70 [==============================] - 2s 25ms/step - loss: 0.0546\n",
            "Epoch 24/120\n",
            "70/70 [==============================] - 2s 25ms/step - loss: 0.0474\n",
            "Epoch 25/120\n",
            "70/70 [==============================] - 2s 25ms/step - loss: 0.0448\n",
            "Epoch 26/120\n",
            "70/70 [==============================] - 2s 25ms/step - loss: 0.0381\n",
            "Epoch 27/120\n",
            "70/70 [==============================] - 2s 25ms/step - loss: 0.0348\n",
            "Epoch 28/120\n",
            "70/70 [==============================] - 2s 26ms/step - loss: 0.0314\n",
            "Epoch 29/120\n",
            "70/70 [==============================] - 2s 26ms/step - loss: 0.0291\n",
            "Epoch 30/120\n",
            "70/70 [==============================] - 2s 25ms/step - loss: 0.0248\n",
            "Epoch 31/120\n",
            "70/70 [==============================] - 2s 25ms/step - loss: 0.0219\n",
            "Epoch 32/120\n",
            "70/70 [==============================] - 2s 26ms/step - loss: 0.0213\n",
            "Epoch 33/120\n",
            "70/70 [==============================] - 2s 26ms/step - loss: 0.0196\n",
            "Epoch 34/120\n",
            "70/70 [==============================] - 2s 27ms/step - loss: 0.0171\n",
            "Epoch 35/120\n",
            "70/70 [==============================] - 2s 26ms/step - loss: 0.0166\n",
            "Epoch 36/120\n",
            "70/70 [==============================] - 2s 25ms/step - loss: 0.0152\n",
            "Epoch 37/120\n",
            "70/70 [==============================] - 2s 25ms/step - loss: 0.0153\n",
            "Epoch 38/120\n",
            "70/70 [==============================] - 2s 25ms/step - loss: 0.0151\n",
            "Epoch 39/120\n",
            "70/70 [==============================] - 2s 25ms/step - loss: 0.0144\n",
            "Epoch 40/120\n",
            "70/70 [==============================] - 2s 26ms/step - loss: 0.0132\n",
            "Epoch 41/120\n",
            "70/70 [==============================] - 2s 26ms/step - loss: 0.0136\n",
            "Epoch 42/120\n",
            "70/70 [==============================] - 2s 26ms/step - loss: 0.0126\n",
            "Epoch 43/120\n",
            "70/70 [==============================] - 2s 26ms/step - loss: 0.0123\n",
            "Epoch 44/120\n",
            "70/70 [==============================] - 2s 26ms/step - loss: 0.0137\n",
            "Epoch 45/120\n",
            "70/70 [==============================] - 2s 26ms/step - loss: 0.0119\n",
            "Epoch 46/120\n",
            "70/70 [==============================] - 2s 27ms/step - loss: 0.0126\n",
            "Epoch 47/120\n",
            "70/70 [==============================] - 2s 26ms/step - loss: 0.0119\n",
            "Epoch 48/120\n",
            "70/70 [==============================] - 2s 27ms/step - loss: 0.0123\n",
            "Epoch 49/120\n",
            "70/70 [==============================] - 2s 26ms/step - loss: 0.0114\n",
            "Epoch 50/120\n",
            "70/70 [==============================] - 2s 26ms/step - loss: 0.0115\n",
            "Epoch 51/120\n",
            "70/70 [==============================] - 2s 24ms/step - loss: 0.0109\n",
            "Epoch 52/120\n",
            "70/70 [==============================] - 2s 25ms/step - loss: 0.0111\n",
            "Epoch 53/120\n",
            "70/70 [==============================] - 2s 25ms/step - loss: 0.0114\n",
            "Epoch 54/120\n",
            "70/70 [==============================] - 2s 25ms/step - loss: 0.0112\n",
            "Epoch 55/120\n",
            "70/70 [==============================] - 2s 26ms/step - loss: 0.0112\n",
            "Epoch 56/120\n",
            "70/70 [==============================] - 3s 38ms/step - loss: 0.0110\n",
            "Epoch 57/120\n",
            "70/70 [==============================] - 2s 25ms/step - loss: 0.0115\n",
            "Epoch 58/120\n",
            "70/70 [==============================] - 2s 26ms/step - loss: 0.0105\n",
            "Epoch 59/120\n",
            "70/70 [==============================] - 2s 25ms/step - loss: 0.0101\n",
            "Epoch 60/120\n",
            "70/70 [==============================] - 2s 26ms/step - loss: 0.0112\n",
            "Epoch 61/120\n",
            "70/70 [==============================] - 2s 26ms/step - loss: 0.0106\n",
            "Epoch 62/120\n",
            "70/70 [==============================] - 2s 26ms/step - loss: 0.0102\n",
            "Epoch 63/120\n",
            "70/70 [==============================] - 2s 26ms/step - loss: 0.0108\n",
            "Epoch 64/120\n",
            "70/70 [==============================] - 2s 26ms/step - loss: 0.0101\n",
            "Epoch 65/120\n",
            "70/70 [==============================] - 2s 27ms/step - loss: 0.0106\n",
            "Epoch 66/120\n",
            "70/70 [==============================] - 2s 27ms/step - loss: 0.0101\n",
            "Epoch 67/120\n",
            "70/70 [==============================] - 2s 27ms/step - loss: 0.0102\n",
            "Epoch 68/120\n",
            "70/70 [==============================] - 2s 27ms/step - loss: 0.0109\n",
            "Epoch 69/120\n",
            "70/70 [==============================] - 2s 26ms/step - loss: 0.0106\n",
            "Epoch 70/120\n",
            "70/70 [==============================] - 2s 26ms/step - loss: 0.0108\n",
            "Epoch 71/120\n",
            "70/70 [==============================] - 2s 26ms/step - loss: 0.0103\n",
            "Epoch 72/120\n",
            "70/70 [==============================] - 2s 25ms/step - loss: 0.0107\n",
            "Epoch 73/120\n",
            "70/70 [==============================] - 2s 26ms/step - loss: 0.0102\n",
            "Epoch 74/120\n",
            "70/70 [==============================] - 2s 27ms/step - loss: 0.0103\n",
            "Epoch 75/120\n",
            "70/70 [==============================] - 2s 27ms/step - loss: 0.0104\n",
            "Epoch 76/120\n",
            "70/70 [==============================] - 2s 27ms/step - loss: 0.0094\n",
            "Epoch 77/120\n",
            "70/70 [==============================] - 2s 26ms/step - loss: 0.0105\n",
            "Epoch 78/120\n",
            "70/70 [==============================] - 2s 26ms/step - loss: 0.0105\n",
            "Epoch 79/120\n",
            "70/70 [==============================] - 2s 26ms/step - loss: 0.0096\n",
            "Epoch 80/120\n",
            "70/70 [==============================] - 2s 26ms/step - loss: 0.0101\n",
            "Epoch 81/120\n",
            "70/70 [==============================] - 2s 26ms/step - loss: 0.0098\n",
            "Epoch 82/120\n",
            "70/70 [==============================] - 2s 26ms/step - loss: 0.0103\n",
            "Epoch 83/120\n",
            "70/70 [==============================] - 2s 26ms/step - loss: 0.0096\n",
            "Epoch 84/120\n",
            "70/70 [==============================] - 2s 26ms/step - loss: 0.0101\n",
            "Epoch 85/120\n",
            "70/70 [==============================] - 2s 26ms/step - loss: 0.0099\n",
            "Epoch 86/120\n",
            "70/70 [==============================] - 2s 26ms/step - loss: 0.0101\n",
            "Epoch 87/120\n",
            "70/70 [==============================] - 2s 26ms/step - loss: 0.0094\n",
            "Epoch 88/120\n",
            "70/70 [==============================] - 2s 26ms/step - loss: 0.0099\n",
            "Epoch 89/120\n",
            "70/70 [==============================] - 2s 26ms/step - loss: 0.0100\n",
            "Epoch 90/120\n",
            "70/70 [==============================] - 2s 27ms/step - loss: 0.0095\n",
            "Epoch 91/120\n",
            "70/70 [==============================] - 2s 26ms/step - loss: 0.0089\n",
            "Epoch 92/120\n",
            "70/70 [==============================] - 2s 25ms/step - loss: 0.0101\n",
            "Epoch 93/120\n",
            "70/70 [==============================] - 2s 25ms/step - loss: 0.0096\n",
            "Epoch 94/120\n",
            "70/70 [==============================] - 2s 26ms/step - loss: 0.0090\n",
            "Epoch 95/120\n",
            "70/70 [==============================] - 2s 27ms/step - loss: 0.0094\n",
            "Epoch 96/120\n",
            "70/70 [==============================] - 2s 26ms/step - loss: 0.0095\n",
            "Epoch 97/120\n",
            "70/70 [==============================] - 2s 26ms/step - loss: 0.0094\n",
            "Epoch 98/120\n",
            "70/70 [==============================] - 2s 25ms/step - loss: 0.0095\n",
            "Epoch 99/120\n",
            "70/70 [==============================] - 2s 26ms/step - loss: 0.0097\n",
            "Epoch 100/120\n",
            "70/70 [==============================] - 2s 26ms/step - loss: 0.0090\n",
            "Epoch 101/120\n",
            "70/70 [==============================] - 2s 26ms/step - loss: 0.0096\n",
            "Epoch 102/120\n",
            "70/70 [==============================] - 2s 26ms/step - loss: 0.0092\n",
            "Epoch 103/120\n",
            "70/70 [==============================] - 2s 26ms/step - loss: 0.0094\n",
            "Epoch 104/120\n",
            "70/70 [==============================] - 2s 28ms/step - loss: 0.0094\n",
            "Epoch 105/120\n",
            "70/70 [==============================] - 2s 28ms/step - loss: 0.0090\n",
            "Epoch 106/120\n",
            "70/70 [==============================] - 2s 27ms/step - loss: 0.0094\n",
            "Epoch 107/120\n",
            "70/70 [==============================] - 2s 26ms/step - loss: 0.0092\n",
            "Epoch 108/120\n",
            "70/70 [==============================] - 2s 26ms/step - loss: 0.0088\n",
            "Epoch 109/120\n",
            "70/70 [==============================] - 2s 26ms/step - loss: 0.0097\n",
            "Epoch 110/120\n",
            "70/70 [==============================] - 2s 26ms/step - loss: 0.0092\n",
            "Epoch 111/120\n",
            "70/70 [==============================] - 2s 26ms/step - loss: 0.0094\n",
            "Epoch 112/120\n",
            "70/70 [==============================] - 2s 26ms/step - loss: 0.0095\n",
            "Epoch 113/120\n",
            "70/70 [==============================] - 2s 26ms/step - loss: 0.0087\n",
            "Epoch 114/120\n",
            "70/70 [==============================] - 2s 26ms/step - loss: 0.0087\n",
            "Epoch 115/120\n",
            "70/70 [==============================] - 2s 28ms/step - loss: 0.0094\n",
            "Epoch 116/120\n",
            "70/70 [==============================] - 2s 28ms/step - loss: 0.0089\n",
            "Epoch 117/120\n",
            "70/70 [==============================] - 2s 29ms/step - loss: 0.0085\n",
            "Epoch 118/120\n",
            "70/70 [==============================] - 2s 29ms/step - loss: 0.0085\n",
            "Epoch 119/120\n",
            "70/70 [==============================] - 2s 29ms/step - loss: 0.0085\n",
            "Epoch 120/120\n",
            "70/70 [==============================] - 2s 28ms/step - loss: 0.0085\n"
          ]
        },
        {
          "output_type": "execute_result",
          "data": {
            "text/plain": [
              "<keras.callbacks.History at 0x7f3a7bd42090>"
            ]
          },
          "metadata": {},
          "execution_count": 29
        }
      ]
    },
    {
      "cell_type": "code",
      "source": [
        "test_coor = test_data_preparation(coordinates, window_size=window_size, batch_size=batch_size)"
      ],
      "metadata": {
        "id": "wUQacVXzjTGB"
      },
      "execution_count": 30,
      "outputs": []
    },
    {
      "cell_type": "code",
      "source": [
        "# for example in test_coor:\n",
        "#   print(example[0].numpy())\n",
        "#   print(example[1].numpy())\n",
        "#   break"
      ],
      "metadata": {
        "id": "csT_cBMSj5jk"
      },
      "execution_count": 31,
      "outputs": []
    },
    {
      "cell_type": "code",
      "source": [
        "predicted_coor = model.predict(test_coor)"
      ],
      "metadata": {
        "id": "WuAw_7J9kQqZ"
      },
      "execution_count": 32,
      "outputs": []
    },
    {
      "cell_type": "code",
      "source": [
        "type(predicted_coor)"
      ],
      "metadata": {
        "id": "n821au8HkuT5",
        "outputId": "4944f675-008a-413d-ae99-59a941684b29",
        "colab": {
          "base_uri": "https://localhost:8080/"
        }
      },
      "execution_count": 33,
      "outputs": [
        {
          "output_type": "execute_result",
          "data": {
            "text/plain": [
              "numpy.ndarray"
            ]
          },
          "metadata": {},
          "execution_count": 33
        }
      ]
    },
    {
      "cell_type": "code",
      "source": [
        "# inverse transform\n",
        "predicted_coor = scaler.inverse_transform(predicted_coor)"
      ],
      "metadata": {
        "id": "K_LkU7MtbZ3a"
      },
      "execution_count": 34,
      "outputs": []
    },
    {
      "cell_type": "code",
      "source": [
        "df_n = pd.DataFrame(predicted_coor, columns=('p_lat', 'p_lng'))\n",
        "df_n['h'] = 0"
      ],
      "metadata": {
        "id": "V2ER3JFdla0P"
      },
      "execution_count": 35,
      "outputs": []
    },
    {
      "cell_type": "code",
      "source": [
        "# df_n['p_lat'] = df_n['p_lat']+30\n",
        "# df_n['p_lng'] = df_n['p_lng']-89"
      ],
      "metadata": {
        "id": "BMlEUu1TDe2C"
      },
      "execution_count": 36,
      "outputs": []
    },
    {
      "cell_type": "code",
      "source": [
        "# df_n.head(10)"
      ],
      "metadata": {
        "id": "DbFg1uyhnF5t"
      },
      "execution_count": 37,
      "outputs": []
    },
    {
      "cell_type": "code",
      "source": [
        "# plt.plot(df_n['p_lng'], df_n['p_lat'], color='r')\n"
      ],
      "metadata": {
        "id": "j6ljWkj2D4Rq"
      },
      "execution_count": 38,
      "outputs": []
    },
    {
      "cell_type": "code",
      "source": [
        "len(df.lat)"
      ],
      "metadata": {
        "id": "ihNHk4Wn794b",
        "outputId": "2538f769-11d3-4468-d94a-1ec952df7b64",
        "colab": {
          "base_uri": "https://localhost:8080/"
        }
      },
      "execution_count": 40,
      "outputs": [
        {
          "output_type": "execute_result",
          "data": {
            "text/plain": [
              "24448"
            ]
          },
          "metadata": {},
          "execution_count": 40
        }
      ]
    },
    {
      "cell_type": "code",
      "source": [
        "' Back to lag lng'\n",
        "df_n['Predted_lat'], df_n['Predicted_lng'], _ = pm.enu2geodetic(df_n.p_lat, df_n.p_lng, df_n.h,\n",
        "                                                                                  df.lat[index], df.lng[index],\n",
        "                                                                                  df.h[index], ell=None, deg=True)"
      ],
      "metadata": {
        "id": "31jGD4uEnYlq"
      },
      "execution_count": 41,
      "outputs": []
    },
    {
      "cell_type": "code",
      "source": [
        "df_n.head(5)"
      ],
      "metadata": {
        "id": "lnYDBMfarHPD"
      },
      "execution_count": null,
      "outputs": []
    },
    {
      "cell_type": "code",
      "source": [
        "plt.plot(df_n.Predicted_lng, df_n.Predted_lat, color='r', label=f'predicted, future:{future}')\n",
        "plt.plot(lng, lat, label='Original')\n",
        "plt.title(f'Window{window_size}')\n",
        "plt.legend()\n",
        "plt.show()"
      ],
      "metadata": {
        "id": "F9WvXy8-bn2-",
        "outputId": "87e8f128-67c5-4199-aa3e-716434bd6be2",
        "colab": {
          "base_uri": "https://localhost:8080/",
          "height": 281
        }
      },
      "execution_count": 42,
      "outputs": [
        {
          "output_type": "display_data",
          "data": {
            "text/plain": [
              "<Figure size 432x288 with 1 Axes>"
            ],
            "image/png": "[encoded data removed]"
          },
          "metadata": {}
        }
      ]
    },
    {
      "cell_type": "code",
      "source": [
        "# plt.plot(lng, lat, label='y')"
      ],
      "metadata": {
        "id": "AfwjvaV1d6zY"
      },
      "execution_count": null,
      "outputs": []
    },
    {
      "cell_type": "code",
      "source": [
        "plt.plot(df_n.Predicted_lng, df_n.Predted_lat, color='r', label=f'predicted, future:{future}')\n",
        "plt.scatter(lng.iloc[len(lng)-1], lat.iloc[len(lng)-1], s=100)"
      ],
      "metadata": {
        "id": "bRbNr1FskAnc",
        "outputId": "33bdcc4b-2055-41c2-a866-27efda322f7f",
        "colab": {
          "base_uri": "https://localhost:8080/",
          "height": 294
        }
      },
      "execution_count": 43,
      "outputs": [
        {
          "output_type": "execute_result",
          "data": {
            "text/plain": [
              "<matplotlib.collections.PathCollection at 0x7f3a794abd50>"
            ]
          },
          "metadata": {},
          "execution_count": 43
        },
        {
          "output_type": "display_data",
          "data": {
            "text/plain": [
              "<Figure size 432x288 with 1 Axes>"
            ],
            "image/png": "[encoded data removed]"
          },
          "metadata": {}
        }
      ]
    }
  ]
}