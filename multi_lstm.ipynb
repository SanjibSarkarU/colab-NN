{
  "nbformat": 4,
  "nbformat_minor": 0,
  "metadata": {
    "colab": {
      "name": "multi-lstm.ipynb",
      "provenance": [],
      "authorship_tag": "ABX9TyOPwTWATiliH2bVtQcnGWt1",
      "include_colab_link": true
    },
    "kernelspec": {
      "name": "python3",
      "display_name": "Python 3"
    },
    "language_info": {
      "name": "python"
    },
    "accelerator": "GPU"
  },
  "cells": [
    {
      "cell_type": "markdown",
      "metadata": {
        "id": "view-in-github",
        "colab_type": "text"
      },
      "source": [
        "<a href=\"https://colab.research.google.com/github/SanjibSarkarU/colab-NN/blob/main/multi_lstm.ipynb\" target=\"_parent\"><img src=\"https://colab.research.google.com/assets/colab-badge.svg\" alt=\"Open In Colab\"/></a>"
      ]
    },
    {
      "cell_type": "code",
      "execution_count": 1,
      "metadata": {
        "colab": {
          "base_uri": "https://localhost:8080/"
        },
        "id": "L0y1dP3gXpTQ",
        "outputId": "558f9238-3c18-4c8e-f995-9c26841691a9"
      },
      "outputs": [
        {
          "output_type": "stream",
          "name": "stdout",
          "text": [
            "Requirement already satisfied: tensorflow-gpu in /usr/local/lib/python3.7/dist-packages (2.8.0)\n",
            "Requirement already satisfied: astunparse>=1.6.0 in /usr/local/lib/python3.7/dist-packages (from tensorflow-gpu) (1.6.3)\n",
            "Requirement already satisfied: keras<2.9,>=2.8.0rc0 in /usr/local/lib/python3.7/dist-packages (from tensorflow-gpu) (2.8.0)\n",
            "Requirement already satisfied: tf-estimator-nightly==2.8.0.dev2021122109 in /usr/local/lib/python3.7/dist-packages (from tensorflow-gpu) (2.8.0.dev2021122109)\n",
            "Requirement already satisfied: keras-preprocessing>=1.1.1 in /usr/local/lib/python3.7/dist-packages (from tensorflow-gpu) (1.1.2)\n",
            "Requirement already satisfied: six>=1.12.0 in /usr/local/lib/python3.7/dist-packages (from tensorflow-gpu) (1.15.0)\n",
            "Requirement already satisfied: tensorflow-io-gcs-filesystem>=0.23.1 in /usr/local/lib/python3.7/dist-packages (from tensorflow-gpu) (0.24.0)\n",
            "Requirement already satisfied: opt-einsum>=2.3.2 in /usr/local/lib/python3.7/dist-packages (from tensorflow-gpu) (3.3.0)\n",
            "Requirement already satisfied: setuptools in /usr/local/lib/python3.7/dist-packages (from tensorflow-gpu) (57.4.0)\n",
            "Requirement already satisfied: numpy>=1.20 in /usr/local/lib/python3.7/dist-packages (from tensorflow-gpu) (1.21.5)\n",
            "Requirement already satisfied: absl-py>=0.4.0 in /usr/local/lib/python3.7/dist-packages (from tensorflow-gpu) (1.0.0)\n",
            "Requirement already satisfied: grpcio<2.0,>=1.24.3 in /usr/local/lib/python3.7/dist-packages (from tensorflow-gpu) (1.44.0)\n",
            "Requirement already satisfied: gast>=0.2.1 in /usr/local/lib/python3.7/dist-packages (from tensorflow-gpu) (0.5.3)\n",
            "Requirement already satisfied: protobuf>=3.9.2 in /usr/local/lib/python3.7/dist-packages (from tensorflow-gpu) (3.17.3)\n",
            "Requirement already satisfied: flatbuffers>=1.12 in /usr/local/lib/python3.7/dist-packages (from tensorflow-gpu) (2.0)\n",
            "Requirement already satisfied: wrapt>=1.11.0 in /usr/local/lib/python3.7/dist-packages (from tensorflow-gpu) (1.14.0)\n",
            "Requirement already satisfied: h5py>=2.9.0 in /usr/local/lib/python3.7/dist-packages (from tensorflow-gpu) (3.1.0)\n",
            "Requirement already satisfied: libclang>=9.0.1 in /usr/local/lib/python3.7/dist-packages (from tensorflow-gpu) (13.0.0)\n",
            "Requirement already satisfied: termcolor>=1.1.0 in /usr/local/lib/python3.7/dist-packages (from tensorflow-gpu) (1.1.0)\n",
            "Requirement already satisfied: google-pasta>=0.1.1 in /usr/local/lib/python3.7/dist-packages (from tensorflow-gpu) (0.2.0)\n",
            "Requirement already satisfied: typing-extensions>=3.6.6 in /usr/local/lib/python3.7/dist-packages (from tensorflow-gpu) (3.10.0.2)\n",
            "Requirement already satisfied: tensorboard<2.9,>=2.8 in /usr/local/lib/python3.7/dist-packages (from tensorflow-gpu) (2.8.0)\n",
            "Requirement already satisfied: wheel<1.0,>=0.23.0 in /usr/local/lib/python3.7/dist-packages (from astunparse>=1.6.0->tensorflow-gpu) (0.37.1)\n",
            "Requirement already satisfied: cached-property in /usr/local/lib/python3.7/dist-packages (from h5py>=2.9.0->tensorflow-gpu) (1.5.2)\n",
            "Requirement already satisfied: tensorboard-plugin-wit>=1.6.0 in /usr/local/lib/python3.7/dist-packages (from tensorboard<2.9,>=2.8->tensorflow-gpu) (1.8.1)\n",
            "Requirement already satisfied: requests<3,>=2.21.0 in /usr/local/lib/python3.7/dist-packages (from tensorboard<2.9,>=2.8->tensorflow-gpu) (2.23.0)\n",
            "Requirement already satisfied: markdown>=2.6.8 in /usr/local/lib/python3.7/dist-packages (from tensorboard<2.9,>=2.8->tensorflow-gpu) (3.3.6)\n",
            "Requirement already satisfied: google-auth-oauthlib<0.5,>=0.4.1 in /usr/local/lib/python3.7/dist-packages (from tensorboard<2.9,>=2.8->tensorflow-gpu) (0.4.6)\n",
            "Requirement already satisfied: google-auth<3,>=1.6.3 in /usr/local/lib/python3.7/dist-packages (from tensorboard<2.9,>=2.8->tensorflow-gpu) (1.35.0)\n",
            "Requirement already satisfied: tensorboard-data-server<0.7.0,>=0.6.0 in /usr/local/lib/python3.7/dist-packages (from tensorboard<2.9,>=2.8->tensorflow-gpu) (0.6.1)\n",
            "Requirement already satisfied: werkzeug>=0.11.15 in /usr/local/lib/python3.7/dist-packages (from tensorboard<2.9,>=2.8->tensorflow-gpu) (1.0.1)\n",
            "Requirement already satisfied: pyasn1-modules>=0.2.1 in /usr/local/lib/python3.7/dist-packages (from google-auth<3,>=1.6.3->tensorboard<2.9,>=2.8->tensorflow-gpu) (0.2.8)\n",
            "Requirement already satisfied: rsa<5,>=3.1.4 in /usr/local/lib/python3.7/dist-packages (from google-auth<3,>=1.6.3->tensorboard<2.9,>=2.8->tensorflow-gpu) (4.8)\n",
            "Requirement already satisfied: cachetools<5.0,>=2.0.0 in /usr/local/lib/python3.7/dist-packages (from google-auth<3,>=1.6.3->tensorboard<2.9,>=2.8->tensorflow-gpu) (4.2.4)\n",
            "Requirement already satisfied: requests-oauthlib>=0.7.0 in /usr/local/lib/python3.7/dist-packages (from google-auth-oauthlib<0.5,>=0.4.1->tensorboard<2.9,>=2.8->tensorflow-gpu) (1.3.1)\n",
            "Requirement already satisfied: importlib-metadata>=4.4 in /usr/local/lib/python3.7/dist-packages (from markdown>=2.6.8->tensorboard<2.9,>=2.8->tensorflow-gpu) (4.11.3)\n",
            "Requirement already satisfied: zipp>=0.5 in /usr/local/lib/python3.7/dist-packages (from importlib-metadata>=4.4->markdown>=2.6.8->tensorboard<2.9,>=2.8->tensorflow-gpu) (3.7.0)\n",
            "Requirement already satisfied: pyasn1<0.5.0,>=0.4.6 in /usr/local/lib/python3.7/dist-packages (from pyasn1-modules>=0.2.1->google-auth<3,>=1.6.3->tensorboard<2.9,>=2.8->tensorflow-gpu) (0.4.8)\n",
            "Requirement already satisfied: idna<3,>=2.5 in /usr/local/lib/python3.7/dist-packages (from requests<3,>=2.21.0->tensorboard<2.9,>=2.8->tensorflow-gpu) (2.10)\n",
            "Requirement already satisfied: certifi>=2017.4.17 in /usr/local/lib/python3.7/dist-packages (from requests<3,>=2.21.0->tensorboard<2.9,>=2.8->tensorflow-gpu) (2021.10.8)\n",
            "Requirement already satisfied: chardet<4,>=3.0.2 in /usr/local/lib/python3.7/dist-packages (from requests<3,>=2.21.0->tensorboard<2.9,>=2.8->tensorflow-gpu) (3.0.4)\n",
            "Requirement already satisfied: urllib3!=1.25.0,!=1.25.1,<1.26,>=1.21.1 in /usr/local/lib/python3.7/dist-packages (from requests<3,>=2.21.0->tensorboard<2.9,>=2.8->tensorflow-gpu) (1.24.3)\n",
            "Requirement already satisfied: oauthlib>=3.0.0 in /usr/local/lib/python3.7/dist-packages (from requests-oauthlib>=0.7.0->google-auth-oauthlib<0.5,>=0.4.1->tensorboard<2.9,>=2.8->tensorflow-gpu) (3.2.0)\n"
          ]
        }
      ],
      "source": [
        "!pip install tensorflow-gpu"
      ]
    },
    {
      "cell_type": "code",
      "source": [
        "!pip install pymap3d"
      ],
      "metadata": {
        "id": "k-RRDKqqZOGO",
        "outputId": "3db8b590-a4ee-4d0d-e340-f169c60f3693",
        "colab": {
          "base_uri": "https://localhost:8080/"
        }
      },
      "execution_count": 2,
      "outputs": [
        {
          "output_type": "stream",
          "name": "stdout",
          "text": [
            "Requirement already satisfied: pymap3d in /usr/local/lib/python3.7/dist-packages (2.8.0)\n"
          ]
        }
      ]
    },
    {
      "cell_type": "code",
      "source": [
        "import numpy as np\n",
        "import tensorflow as tf\n",
        "# from tensorflow.keras.models import Sequential\n",
        "import pandas as pd\n",
        "from matplotlib import pyplot as plt\n",
        "import matplotlib.colors as pltc\n",
        "from keras.models import Sequential\n",
        "from keras.layers import Dense, LSTM, SimpleRNN\n",
        "from keras.preprocessing.sequence import TimeseriesGenerator\n",
        "from sklearn.preprocessing import StandardScaler\n",
        "from sklearn.metrics import mean_squared_error\n",
        "import pymap3d as pm\n",
        "plt.style.use('dark_background')\n",
        "colors = [k for k,v in pltc.cnames.items()]"
      ],
      "metadata": {
        "id": "nFPfFHxPX_nq"
      },
      "execution_count": 3,
      "outputs": []
    },
    {
      "cell_type": "code",
      "source": [
        "df = pd.read_csv('20220222_153859_hlc.csv', skiprows=1)\n",
        "df = df.rename(columns={\"Latitude (Deg N)\": 'lat', \"Longitude (Deg W)\": 'lng'}, errors=\"raise\")\n",
        "df = df.loc[(df['lat'] != 0)]\n",
        "df['h'] = 0\n",
        "# df.set_index([i for i in range(0, len(df.lat)-1)], inplace=True)\n",
        "df.reset_index(drop=True, inplace=True)"
      ],
      "metadata": {
        "id": "EZj6UNIFYEgM"
      },
      "execution_count": 28,
      "outputs": []
    },
    {
      "cell_type": "code",
      "source": [
        "index = int(len(df.lat)/2)"
      ],
      "metadata": {
        "id": "xKUrHepM5wRn"
      },
      "execution_count": 29,
      "outputs": []
    },
    {
      "cell_type": "code",
      "source": [
        "# index"
      ],
      "metadata": {
        "id": "Lo00QYyR59fu"
      },
      "execution_count": 30,
      "outputs": []
    },
    {
      "cell_type": "code",
      "source": [
        "# df['lat'] = df['lat']-30\n",
        "# df['lng'] = df['lng'] + 89"
      ],
      "metadata": {
        "id": "vrVkBlYqFz4M"
      },
      "execution_count": 31,
      "outputs": []
    },
    {
      "cell_type": "code",
      "source": [
        "' Convert to local coordinate system'\n",
        "index = index\n",
        "df['e'], df['n'], df['u'] = pm.geodetic2enu(df.lat, df.lng, df.h, df.lat[index],\n",
        "                                                    df.lng[index], df.h[index], ell=None, deg=True)\n",
        "\n",
        "\n",
        "df.head(5)"
      ],
      "metadata": {
        "id": "GXnD9qH4ZewY",
        "outputId": "380014ee-482b-426a-b28d-e2f3926e7ce9",
        "colab": {
          "base_uri": "https://localhost:8080/",
          "height": 314
        }
      },
      "execution_count": 32,
      "outputs": [
        {
          "output_type": "execute_result",
          "data": {
            "text/plain": [
              "  Date (mm/dd/yyyy)          Time  Num Satellites  Position Uncertainty (m)  \\\n",
              "0        02/22/2022  15:40:32.999               8                         3   \n",
              "1        02/22/2022  15:40:33.799               8                         3   \n",
              "2        02/22/2022  15:40:35.999               9                         3   \n",
              "3        02/22/2022  15:40:37.000               9                         3   \n",
              "4        02/22/2022  15:40:37.999               9                         3   \n",
              "\n",
              "         lat        lng  Speed (kts)  Heading (Deg N)  Course (Deg N)  \\\n",
              "0  30.366409 -89.622612        29.89            226.0           269.4   \n",
              "1  30.366408 -89.622765        28.79            225.9           269.4   \n",
              "2  30.366407 -89.623054        24.93            225.9           269.1   \n",
              "3  30.366405 -89.623188        22.74            226.2           269.4   \n",
              "4  30.366404 -89.623302        21.17            226.5           269.7   \n",
              "\n",
              "   OCB Temp (C)  ...  Volts stbd  Amps stbd  charge (%) stbd  \\\n",
              "0          43.2  ...         0.0        0.0              0.0   \n",
              "1          43.3  ...         0.0        0.0              0.0   \n",
              "2          43.2  ...         0.0        0.0              0.0   \n",
              "3          43.3  ...         0.0        0.0              0.0   \n",
              "4          43.3  ...         0.0        0.0              0.0   \n",
              "\n",
              "   StatorTemp (C) stbd  PCBTep (C) stbd  Error Code stbd  h           e  \\\n",
              "0                  0.0              0.0              0x0  0  585.817265   \n",
              "1                  0.0              0.0              0x0  0  571.118054   \n",
              "2                  0.0              0.0              0x0  0  543.274052   \n",
              "3                  0.0              0.0              0x0  0  530.406116   \n",
              "4                  0.0              0.0              0x0  0  519.458852   \n",
              "\n",
              "             n         u  \n",
              "0  1578.584509 -0.223042  \n",
              "1  1578.485065 -0.221685  \n",
              "2  1578.271902 -0.219202  \n",
              "3  1578.126043 -0.218083  \n",
              "4  1578.039046 -0.217161  \n",
              "\n",
              "[5 rows x 37 columns]"
            ],
            "text/html": [
              "\n",
              "  <div id=\"df-6f86b1d9-a478-43dd-991f-6ee6385abce8\">\n",
              "    <div class=\"colab-df-container\">\n",
              "      <div>\n",
              "<style scoped>\n",
              "    .dataframe tbody tr th:only-of-type {\n",
              "        vertical-align: middle;\n",
              "    }\n",
              "\n",
              "    .dataframe tbody tr th {\n",
              "        vertical-align: top;\n",
              "    }\n",
              "\n",
              "    .dataframe thead th {\n",
              "        text-align: right;\n",
              "    }\n",
              "</style>\n",
              "<table border=\"1\" class=\"dataframe\">\n",
              "  <thead>\n",
              "    <tr style=\"text-align: right;\">\n",
              "      <th></th>\n",
              "      <th>Date (mm/dd/yyyy)</th>\n",
              "      <th>Time</th>\n",
              "      <th>Num Satellites</th>\n",
              "      <th>Position Uncertainty (m)</th>\n",
              "      <th>lat</th>\n",
              "      <th>lng</th>\n",
              "      <th>Speed (kts)</th>\n",
              "      <th>Heading (Deg N)</th>\n",
              "      <th>Course (Deg N)</th>\n",
              "      <th>OCB Temp (C)</th>\n",
              "      <th>...</th>\n",
              "      <th>Volts stbd</th>\n",
              "      <th>Amps stbd</th>\n",
              "      <th>charge (%) stbd</th>\n",
              "      <th>StatorTemp (C) stbd</th>\n",
              "      <th>PCBTep (C) stbd</th>\n",
              "      <th>Error Code stbd</th>\n",
              "      <th>h</th>\n",
              "      <th>e</th>\n",
              "      <th>n</th>\n",
              "      <th>u</th>\n",
              "    </tr>\n",
              "  </thead>\n",
              "  <tbody>\n",
              "    <tr>\n",
              "      <th>0</th>\n",
              "      <td>02/22/2022</td>\n",
              "      <td>15:40:32.999</td>\n",
              "      <td>8</td>\n",
              "      <td>3</td>\n",
              "      <td>30.366409</td>\n",
              "      <td>-89.622612</td>\n",
              "      <td>29.89</td>\n",
              "      <td>226.0</td>\n",
              "      <td>269.4</td>\n",
              "      <td>43.2</td>\n",
              "      <td>...</td>\n",
              "      <td>0.0</td>\n",
              "      <td>0.0</td>\n",
              "      <td>0.0</td>\n",
              "      <td>0.0</td>\n",
              "      <td>0.0</td>\n",
              "      <td>0x0</td>\n",
              "      <td>0</td>\n",
              "      <td>585.817265</td>\n",
              "      <td>1578.584509</td>\n",
              "      <td>-0.223042</td>\n",
              "    </tr>\n",
              "    <tr>\n",
              "      <th>1</th>\n",
              "      <td>02/22/2022</td>\n",
              "      <td>15:40:33.799</td>\n",
              "      <td>8</td>\n",
              "      <td>3</td>\n",
              "      <td>30.366408</td>\n",
              "      <td>-89.622765</td>\n",
              "      <td>28.79</td>\n",
              "      <td>225.9</td>\n",
              "      <td>269.4</td>\n",
              "      <td>43.3</td>\n",
              "      <td>...</td>\n",
              "      <td>0.0</td>\n",
              "      <td>0.0</td>\n",
              "      <td>0.0</td>\n",
              "      <td>0.0</td>\n",
              "      <td>0.0</td>\n",
              "      <td>0x0</td>\n",
              "      <td>0</td>\n",
              "      <td>571.118054</td>\n",
              "      <td>1578.485065</td>\n",
              "      <td>-0.221685</td>\n",
              "    </tr>\n",
              "    <tr>\n",
              "      <th>2</th>\n",
              "      <td>02/22/2022</td>\n",
              "      <td>15:40:35.999</td>\n",
              "      <td>9</td>\n",
              "      <td>3</td>\n",
              "      <td>30.366407</td>\n",
              "      <td>-89.623054</td>\n",
              "      <td>24.93</td>\n",
              "      <td>225.9</td>\n",
              "      <td>269.1</td>\n",
              "      <td>43.2</td>\n",
              "      <td>...</td>\n",
              "      <td>0.0</td>\n",
              "      <td>0.0</td>\n",
              "      <td>0.0</td>\n",
              "      <td>0.0</td>\n",
              "      <td>0.0</td>\n",
              "      <td>0x0</td>\n",
              "      <td>0</td>\n",
              "      <td>543.274052</td>\n",
              "      <td>1578.271902</td>\n",
              "      <td>-0.219202</td>\n",
              "    </tr>\n",
              "    <tr>\n",
              "      <th>3</th>\n",
              "      <td>02/22/2022</td>\n",
              "      <td>15:40:37.000</td>\n",
              "      <td>9</td>\n",
              "      <td>3</td>\n",
              "      <td>30.366405</td>\n",
              "      <td>-89.623188</td>\n",
              "      <td>22.74</td>\n",
              "      <td>226.2</td>\n",
              "      <td>269.4</td>\n",
              "      <td>43.3</td>\n",
              "      <td>...</td>\n",
              "      <td>0.0</td>\n",
              "      <td>0.0</td>\n",
              "      <td>0.0</td>\n",
              "      <td>0.0</td>\n",
              "      <td>0.0</td>\n",
              "      <td>0x0</td>\n",
              "      <td>0</td>\n",
              "      <td>530.406116</td>\n",
              "      <td>1578.126043</td>\n",
              "      <td>-0.218083</td>\n",
              "    </tr>\n",
              "    <tr>\n",
              "      <th>4</th>\n",
              "      <td>02/22/2022</td>\n",
              "      <td>15:40:37.999</td>\n",
              "      <td>9</td>\n",
              "      <td>3</td>\n",
              "      <td>30.366404</td>\n",
              "      <td>-89.623302</td>\n",
              "      <td>21.17</td>\n",
              "      <td>226.5</td>\n",
              "      <td>269.7</td>\n",
              "      <td>43.3</td>\n",
              "      <td>...</td>\n",
              "      <td>0.0</td>\n",
              "      <td>0.0</td>\n",
              "      <td>0.0</td>\n",
              "      <td>0.0</td>\n",
              "      <td>0.0</td>\n",
              "      <td>0x0</td>\n",
              "      <td>0</td>\n",
              "      <td>519.458852</td>\n",
              "      <td>1578.039046</td>\n",
              "      <td>-0.217161</td>\n",
              "    </tr>\n",
              "  </tbody>\n",
              "</table>\n",
              "<p>5 rows × 37 columns</p>\n",
              "</div>\n",
              "      <button class=\"colab-df-convert\" onclick=\"convertToInteractive('df-6f86b1d9-a478-43dd-991f-6ee6385abce8')\"\n",
              "              title=\"Convert this dataframe to an interactive table.\"\n",
              "              style=\"display:none;\">\n",
              "        \n",
              "  <svg xmlns=\"http://www.w3.org/2000/svg\" height=\"24px\"viewBox=\"0 0 24 24\"\n",
              "       width=\"24px\">\n",
              "    <path d=\"M0 0h24v24H0V0z\" fill=\"none\"/>\n",
              "    <path d=\"M18.56 5.44l.94 2.06.94-2.06 2.06-.94-2.06-.94-.94-2.06-.94 2.06-2.06.94zm-11 1L8.5 8.5l.94-2.06 2.06-.94-2.06-.94L8.5 2.5l-.94 2.06-2.06.94zm10 10l.94 2.06.94-2.06 2.06-.94-2.06-.94-.94-2.06-.94 2.06-2.06.94z\"/><path d=\"M17.41 7.96l-1.37-1.37c-.4-.4-.92-.59-1.43-.59-.52 0-1.04.2-1.43.59L10.3 9.45l-7.72 7.72c-.78.78-.78 2.05 0 2.83L4 21.41c.39.39.9.59 1.41.59.51 0 1.02-.2 1.41-.59l7.78-7.78 2.81-2.81c.8-.78.8-2.07 0-2.86zM5.41 20L4 18.59l7.72-7.72 1.47 1.35L5.41 20z\"/>\n",
              "  </svg>\n",
              "      </button>\n",
              "      \n",
              "  <style>\n",
              "    .colab-df-container {\n",
              "      display:flex;\n",
              "      flex-wrap:wrap;\n",
              "      gap: 12px;\n",
              "    }\n",
              "\n",
              "    .colab-df-convert {\n",
              "      background-color: #E8F0FE;\n",
              "      border: none;\n",
              "      border-radius: 50%;\n",
              "      cursor: pointer;\n",
              "      display: none;\n",
              "      fill: #1967D2;\n",
              "      height: 32px;\n",
              "      padding: 0 0 0 0;\n",
              "      width: 32px;\n",
              "    }\n",
              "\n",
              "    .colab-df-convert:hover {\n",
              "      background-color: #E2EBFA;\n",
              "      box-shadow: 0px 1px 2px rgba(60, 64, 67, 0.3), 0px 1px 3px 1px rgba(60, 64, 67, 0.15);\n",
              "      fill: #174EA6;\n",
              "    }\n",
              "\n",
              "    [theme=dark] .colab-df-convert {\n",
              "      background-color: #3B4455;\n",
              "      fill: #D2E3FC;\n",
              "    }\n",
              "\n",
              "    [theme=dark] .colab-df-convert:hover {\n",
              "      background-color: #434B5C;\n",
              "      box-shadow: 0px 1px 3px 1px rgba(0, 0, 0, 0.15);\n",
              "      filter: drop-shadow(0px 1px 2px rgba(0, 0, 0, 0.3));\n",
              "      fill: #FFFFFF;\n",
              "    }\n",
              "  </style>\n",
              "\n",
              "      <script>\n",
              "        const buttonEl =\n",
              "          document.querySelector('#df-6f86b1d9-a478-43dd-991f-6ee6385abce8 button.colab-df-convert');\n",
              "        buttonEl.style.display =\n",
              "          google.colab.kernel.accessAllowed ? 'block' : 'none';\n",
              "\n",
              "        async function convertToInteractive(key) {\n",
              "          const element = document.querySelector('#df-6f86b1d9-a478-43dd-991f-6ee6385abce8');\n",
              "          const dataTable =\n",
              "            await google.colab.kernel.invokeFunction('convertToInteractive',\n",
              "                                                     [key], {});\n",
              "          if (!dataTable) return;\n",
              "\n",
              "          const docLinkHtml = 'Like what you see? Visit the ' +\n",
              "            '<a target=\"_blank\" href=https://colab.research.google.com/notebooks/data_table.ipynb>data table notebook</a>'\n",
              "            + ' to learn more about interactive tables.';\n",
              "          element.innerHTML = '';\n",
              "          dataTable['output_type'] = 'display_data';\n",
              "          await google.colab.output.renderOutput(dataTable, element);\n",
              "          const docLink = document.createElement('div');\n",
              "          docLink.innerHTML = docLinkHtml;\n",
              "          element.appendChild(docLink);\n",
              "        }\n",
              "      </script>\n",
              "    </div>\n",
              "  </div>\n",
              "  "
            ]
          },
          "metadata": {},
          "execution_count": 32
        }
      ]
    },
    {
      "cell_type": "code",
      "source": [
        ""
      ],
      "metadata": {
        "id": "ZDJYw-lRHKDA"
      },
      "execution_count": 32,
      "outputs": []
    },
    {
      "cell_type": "code",
      "source": [
        "print(f'Latitude min:{df.e.min()}, Latitude max:{df.e.max()},\\nLongitude min:{df.n.min()}, Longitude max:{df.n.max()}')"
      ],
      "metadata": {
        "id": "_7ogmX4hbBrb",
        "outputId": "2f3d386f-0d3b-48d0-d906-1c3d7028a93c",
        "colab": {
          "base_uri": "https://localhost:8080/"
        }
      },
      "execution_count": 33,
      "outputs": [
        {
          "output_type": "stream",
          "name": "stdout",
          "text": [
            "Latitude min:-204.38509766230544, Latitude max:585.8172653577328,\n",
            "Longitude min:-106.02933113377932, Longitude max:1578.9230964370831\n"
          ]
        }
      ]
    },
    {
      "cell_type": "code",
      "source": [
        "start = 10500\n",
        "end = 13700\n",
        "lat = df.lat[start:end]\n",
        "lng = df.lng[start:end]\n",
        "\n",
        "series_time = df.Time[start:end].to_list\n",
        "series_lat = df.e[start:end]\n",
        "series_lng = df.n[start:end]\n",
        "\n",
        "# series_time = df.Time[start:end].to_list\n",
        "# series_lat = df.lat[start:end]\n",
        "# series_lng = df.lng[start:end]\n",
        "\n",
        "coordinates = [[i,j] for i,j in zip(series_lat, series_lng)]\n",
        "coordinates= np.array(coordinates)\n",
        "# print(coordinates[:10])"
      ],
      "metadata": {
        "id": "ZIbl72K9kCT7"
      },
      "execution_count": 34,
      "outputs": []
    },
    {
      "cell_type": "code",
      "source": [
        "# 'Compare before and after local converstion'\n",
        "# ' Back to lag lng'\n",
        "# df['back_lat'], df['back_lng'], _ = pm.enu2geodetic(df.e, df.n, df.u, df.lat[84],\n",
        "#                                                     df.lng[84], df.h[84], ell=None, deg=True)"
      ],
      "metadata": {
        "id": "_R49HPa6HWId"
      },
      "execution_count": 35,
      "outputs": []
    },
    {
      "cell_type": "code",
      "source": [
        "# df.head(5)"
      ],
      "metadata": {
        "id": "3Hyx-rurIAsC"
      },
      "execution_count": 36,
      "outputs": []
    },
    {
      "cell_type": "code",
      "source": [
        "# type(coordinates)"
      ],
      "metadata": {
        "id": "71ELqtK0vViq"
      },
      "execution_count": 37,
      "outputs": []
    },
    {
      "cell_type": "code",
      "source": [
        "# Test train split\n",
        "def train_test_split(dataset, percentage):\n",
        "    train_size = int(len(dataset) * percentage)\n",
        "    # test_size = len(dataset) - train_size\n",
        "    train, test = dataset[0:train_size, :], dataset[train_size:len(dataset), :]\n",
        "    return train, test\n"
      ],
      "metadata": {
        "id": "AwRznwYSo8eZ"
      },
      "execution_count": 38,
      "outputs": []
    },
    {
      "cell_type": "code",
      "source": [
        "def ts_from_array(data, target, window, future, batch, shuffle):\n",
        "    data = data[:-(window + 1)] if future != 1 else data\n",
        "    targets = target\n",
        "    print(\"length: \", len(data), len(targets))\n",
        "    tensor = tf.keras.preprocessing.timeseries_dataset_from_array(data, targets, sequence_length=window,\n",
        "                                                                  sequence_stride=1,\n",
        "                                                                  sampling_rate=1, batch_size=batch, shuffle=shuffle,\n",
        "                                                                  seed=None,\n",
        "                                                                  start_index=None, end_index=None)\n",
        "    return tensor"
      ],
      "metadata": {
        "id": "1HfIIi4HpEwz"
      },
      "execution_count": 39,
      "outputs": []
    },
    {
      "cell_type": "code",
      "source": [
        "# create scaler\n",
        "scaler = StandardScaler()\n",
        "# fit scaler on data\n",
        "scaler.fit(coordinates)\n",
        "# apply transform\n",
        "coordinates = scaler.transform(coordinates)\n",
        "# print(coordinates[:17])"
      ],
      "metadata": {
        "id": "VanjlLb_pQKJ"
      },
      "execution_count": 40,
      "outputs": []
    },
    {
      "cell_type": "code",
      "source": [
        "# print(coordinates[:17])"
      ],
      "metadata": {
        "id": "iVmKz3jzpUx5"
      },
      "execution_count": 41,
      "outputs": []
    },
    {
      "cell_type": "code",
      "source": [
        "train, test = train_test_split(coordinates, 0.7)"
      ],
      "metadata": {
        "id": "NFT8QNsSpbTZ"
      },
      "execution_count": 42,
      "outputs": []
    },
    {
      "cell_type": "code",
      "source": [
        "window_size = 15\n",
        "future = 2\n",
        "batch_size = 32"
      ],
      "metadata": {
        "id": "WV2ZapRCpesh"
      },
      "execution_count": 43,
      "outputs": []
    },
    {
      "cell_type": "code",
      "source": [
        "target = train[(window_size + future) - 1:]"
      ],
      "metadata": {
        "id": "l89zWDxHpjLh"
      },
      "execution_count": 44,
      "outputs": []
    },
    {
      "cell_type": "code",
      "source": [
        "xy_train = ts_from_array(train, target, window=window_size, future=future, batch=batch_size, shuffle=False)"
      ],
      "metadata": {
        "id": "xoe6Mq7KpnxA",
        "outputId": "3bb83ca2-87de-4ccc-8ed6-ca7402615de4",
        "colab": {
          "base_uri": "https://localhost:8080/"
        }
      },
      "execution_count": 45,
      "outputs": [
        {
          "output_type": "stream",
          "name": "stdout",
          "text": [
            "length:  2224 2224\n"
          ]
        }
      ]
    },
    {
      "cell_type": "code",
      "source": [
        "def model_lstm(w_size):\n",
        "    units = 15\n",
        "    tf.keras.backend.clear_session()\n",
        "    model = tf.keras.models.Sequential([\n",
        "        tf.keras.layers.LSTM(w_size + 2, activation='relu', return_sequences=True, input_shape=(w_size, 2)),\n",
        "        tf.keras.layers.LSTM(units),\n",
        "        tf.keras.layers.Dense(2, activation='linear')])    \n",
        "    model.summary()\n",
        "    # print('Train...', model.summary())\n",
        "    return model"
      ],
      "metadata": {
        "id": "s_LUGG6cpvdw"
      },
      "execution_count": 46,
      "outputs": []
    },
    {
      "cell_type": "code",
      "source": [
        "model = model_lstm(window_size)"
      ],
      "metadata": {
        "id": "xRPsXujHrnr6",
        "outputId": "b5a9be5d-8729-47f3-8980-924494e2f5e4",
        "colab": {
          "base_uri": "https://localhost:8080/"
        }
      },
      "execution_count": 47,
      "outputs": [
        {
          "output_type": "stream",
          "name": "stdout",
          "text": [
            "WARNING:tensorflow:Layer lstm will not use cuDNN kernels since it doesn't meet the criteria. It will use a generic GPU kernel as fallback when running on GPU.\n",
            "Model: \"sequential\"\n",
            "_________________________________________________________________\n",
            " Layer (type)                Output Shape              Param #   \n",
            "=================================================================\n",
            " lstm (LSTM)                 (None, 15, 17)            1360      \n",
            "                                                                 \n",
            " lstm_1 (LSTM)               (None, 15)                1980      \n",
            "                                                                 \n",
            " dense (Dense)               (None, 2)                 32        \n",
            "                                                                 \n",
            "=================================================================\n",
            "Total params: 3,372\n",
            "Trainable params: 3,372\n",
            "Non-trainable params: 0\n",
            "_________________________________________________________________\n"
          ]
        }
      ]
    },
    {
      "cell_type": "code",
      "source": [
        "model.compile(optimizer=tf.keras.optimizers.SGD(learning_rate=0.0001, momentum=0.9), loss='mse')"
      ],
      "metadata": {
        "id": "Y-EKhAverfVi"
      },
      "execution_count": 48,
      "outputs": []
    },
    {
      "cell_type": "code",
      "source": [
        "epochs = 100\n",
        "history = model.fit(xy_train, epochs=epochs, verbose=1)"
      ],
      "metadata": {
        "id": "-weNTtlnqD55",
        "outputId": "b297b2c6-dbd6-4469-cad3-21d15937c490",
        "colab": {
          "base_uri": "https://localhost:8080/",
          "height": 415
        }
      },
      "execution_count": 49,
      "outputs": [
        {
          "output_type": "stream",
          "name": "stdout",
          "text": [
            "Epoch 1/100\n"
          ]
        },
        {
          "output_type": "error",
          "ename": "UnknownError",
          "evalue": "ignored",
          "traceback": [
            "\u001b[0;31m---------------------------------------------------------------------------\u001b[0m",
            "\u001b[0;31mUnknownError\u001b[0m                              Traceback (most recent call last)",
            "\u001b[0;32m<ipython-input-49-383b7af10de2>\u001b[0m in \u001b[0;36m<module>\u001b[0;34m()\u001b[0m\n\u001b[1;32m      1\u001b[0m \u001b[0mepochs\u001b[0m \u001b[0;34m=\u001b[0m \u001b[0;36m100\u001b[0m\u001b[0;34m\u001b[0m\u001b[0;34m\u001b[0m\u001b[0m\n\u001b[0;32m----> 2\u001b[0;31m \u001b[0mhistory\u001b[0m \u001b[0;34m=\u001b[0m \u001b[0mmodel\u001b[0m\u001b[0;34m.\u001b[0m\u001b[0mfit\u001b[0m\u001b[0;34m(\u001b[0m\u001b[0mxy_train\u001b[0m\u001b[0;34m,\u001b[0m \u001b[0mepochs\u001b[0m\u001b[0;34m=\u001b[0m\u001b[0mepochs\u001b[0m\u001b[0;34m,\u001b[0m \u001b[0mverbose\u001b[0m\u001b[0;34m=\u001b[0m\u001b[0;36m1\u001b[0m\u001b[0;34m)\u001b[0m\u001b[0;34m\u001b[0m\u001b[0;34m\u001b[0m\u001b[0m\n\u001b[0m",
            "\u001b[0;32m/usr/local/lib/python3.7/dist-packages/keras/utils/traceback_utils.py\u001b[0m in \u001b[0;36merror_handler\u001b[0;34m(*args, **kwargs)\u001b[0m\n\u001b[1;32m     65\u001b[0m     \u001b[0;32mexcept\u001b[0m \u001b[0mException\u001b[0m \u001b[0;32mas\u001b[0m \u001b[0me\u001b[0m\u001b[0;34m:\u001b[0m  \u001b[0;31m# pylint: disable=broad-except\u001b[0m\u001b[0;34m\u001b[0m\u001b[0;34m\u001b[0m\u001b[0m\n\u001b[1;32m     66\u001b[0m       \u001b[0mfiltered_tb\u001b[0m \u001b[0;34m=\u001b[0m \u001b[0m_process_traceback_frames\u001b[0m\u001b[0;34m(\u001b[0m\u001b[0me\u001b[0m\u001b[0;34m.\u001b[0m\u001b[0m__traceback__\u001b[0m\u001b[0;34m)\u001b[0m\u001b[0;34m\u001b[0m\u001b[0;34m\u001b[0m\u001b[0m\n\u001b[0;32m---> 67\u001b[0;31m       \u001b[0;32mraise\u001b[0m \u001b[0me\u001b[0m\u001b[0;34m.\u001b[0m\u001b[0mwith_traceback\u001b[0m\u001b[0;34m(\u001b[0m\u001b[0mfiltered_tb\u001b[0m\u001b[0;34m)\u001b[0m \u001b[0;32mfrom\u001b[0m \u001b[0;32mNone\u001b[0m\u001b[0;34m\u001b[0m\u001b[0;34m\u001b[0m\u001b[0m\n\u001b[0m\u001b[1;32m     68\u001b[0m     \u001b[0;32mfinally\u001b[0m\u001b[0;34m:\u001b[0m\u001b[0;34m\u001b[0m\u001b[0;34m\u001b[0m\u001b[0m\n\u001b[1;32m     69\u001b[0m       \u001b[0;32mdel\u001b[0m \u001b[0mfiltered_tb\u001b[0m\u001b[0;34m\u001b[0m\u001b[0;34m\u001b[0m\u001b[0m\n",
            "\u001b[0;32m/usr/local/lib/python3.7/dist-packages/tensorflow/python/eager/execute.py\u001b[0m in \u001b[0;36mquick_execute\u001b[0;34m(op_name, num_outputs, inputs, attrs, ctx, name)\u001b[0m\n\u001b[1;32m     53\u001b[0m     \u001b[0mctx\u001b[0m\u001b[0;34m.\u001b[0m\u001b[0mensure_initialized\u001b[0m\u001b[0;34m(\u001b[0m\u001b[0;34m)\u001b[0m\u001b[0;34m\u001b[0m\u001b[0;34m\u001b[0m\u001b[0m\n\u001b[1;32m     54\u001b[0m     tensors = pywrap_tfe.TFE_Py_Execute(ctx._handle, device_name, op_name,\n\u001b[0;32m---> 55\u001b[0;31m                                         inputs, attrs, num_outputs)\n\u001b[0m\u001b[1;32m     56\u001b[0m   \u001b[0;32mexcept\u001b[0m \u001b[0mcore\u001b[0m\u001b[0;34m.\u001b[0m\u001b[0m_NotOkStatusException\u001b[0m \u001b[0;32mas\u001b[0m \u001b[0me\u001b[0m\u001b[0;34m:\u001b[0m\u001b[0;34m\u001b[0m\u001b[0;34m\u001b[0m\u001b[0m\n\u001b[1;32m     57\u001b[0m     \u001b[0;32mif\u001b[0m \u001b[0mname\u001b[0m \u001b[0;32mis\u001b[0m \u001b[0;32mnot\u001b[0m \u001b[0;32mNone\u001b[0m\u001b[0;34m:\u001b[0m\u001b[0;34m\u001b[0m\u001b[0;34m\u001b[0m\u001b[0m\n",
            "\u001b[0;31mUnknownError\u001b[0m: Graph execution error:\n\nFail to find the dnn implementation.\n\t [[{{node CudnnRNN}}]]\n\t [[sequential/lstm_1/PartitionedCall]] [Op:__inference_train_function_12047]"
          ]
        }
      ]
    },
    {
      "cell_type": "code",
      "source": [
        "# def ts_data_preparation(features, window=5, future=1, batch=1, shuffle=False):\n",
        "#     target = features[(future - 1):]\n",
        "#     features = features[:-(future - 1)] if future != 1 else features\n",
        "#     tensor = TimeseriesGenerator(features, target, length=window, batch_size=batch, shuffle=shuffle)\n",
        "#     return tensor"
      ],
      "metadata": {
        "id": "ze4nayqzl8ea"
      },
      "execution_count": null,
      "outputs": []
    },
    {
      "cell_type": "code",
      "source": [
        "# def test_data_preparation(series, window_size, batch_size):\n",
        "#     dataset = tf.data.Dataset.from_tensor_slices(series)\n",
        "#     dataset = dataset.window(window_size, shift=1, drop_remainder=True)\n",
        "#     dataset = dataset.flat_map(lambda window: window.batch(window_size))\n",
        "#     # dataset = dataset.shuffle(shuffle_buffer).map(lambda window: (window[:-1], window[-1:]))\n",
        "#     dataset = dataset.batch(batch_size).prefetch(1)\n",
        "#     return dataset"
      ],
      "metadata": {
        "id": "VdEzU5XnmeO1"
      },
      "execution_count": null,
      "outputs": []
    },
    {
      "cell_type": "code",
      "source": [
        "# def train_test_split(dataset, percentage):\n",
        "#     train_size = int(len(dataset) * percentage)\n",
        "#     # test_size = len(dataset) - train_size\n",
        "#     train, test = dataset[0:train_size, :], dataset[train_size:len(dataset), :]\n",
        "#     return train, test"
      ],
      "metadata": {
        "id": "OuBeuRPVmUTp"
      },
      "execution_count": null,
      "outputs": []
    },
    {
      "cell_type": "code",
      "source": [
        "# # create scaler\n",
        "# scaler = StandardScaler()\n",
        "# # fit scaler on data\n",
        "# scaler.fit(coordinates)\n",
        "# # apply transform\n",
        "# coordinates = scaler.transform(coordinates)"
      ],
      "metadata": {
        "id": "ltgziEq0ZNaS"
      },
      "execution_count": null,
      "outputs": []
    },
    {
      "cell_type": "code",
      "source": [
        "# coordinates[0:10]"
      ],
      "metadata": {
        "id": "KYxPNb-8Zr2B"
      },
      "execution_count": null,
      "outputs": []
    },
    {
      "cell_type": "code",
      "source": [
        "# # inverse transform\n",
        "# inverse = scaler.inverse_transform(coordinates)\n",
        "# inverse[:10]"
      ],
      "metadata": {
        "id": "VqRkkbg0Z-L5"
      },
      "execution_count": null,
      "outputs": []
    },
    {
      "cell_type": "code",
      "source": [
        "# train_coor, test_coor = train_test_split(coordinates, 0.7)"
      ],
      "metadata": {
        "id": "_gnEWsrZl-6E"
      },
      "execution_count": null,
      "outputs": []
    },
    {
      "cell_type": "code",
      "source": [
        "# train_coor[:10]  #.shape, test_coor.shape"
      ],
      "metadata": {
        "id": "_sABcK4pm1t7"
      },
      "execution_count": null,
      "outputs": []
    },
    {
      "cell_type": "code",
      "source": [
        "# window_size = 20\n",
        "# future = 1\n",
        "# batch_size = 32"
      ],
      "metadata": {
        "id": "HdeTQEbNnZA2"
      },
      "execution_count": null,
      "outputs": []
    },
    {
      "cell_type": "code",
      "source": [
        "# train_coor = ts_data_preparation(train_coor, window=window_size, future=future, batch=batch_size, shuffle=True)"
      ],
      "metadata": {
        "id": "k18mUnT9nhXw"
      },
      "execution_count": null,
      "outputs": []
    },
    {
      "cell_type": "code",
      "source": [
        "len(train_coor)"
      ],
      "metadata": {
        "id": "aV35IfC2oHJ4"
      },
      "execution_count": null,
      "outputs": []
    },
    {
      "cell_type": "code",
      "source": [
        "# def model_lstm(w_size):\n",
        "#     units = 64\n",
        "#     tf.keras.backend.clear_session()\n",
        "#     model = tf.keras.models.Sequential([\n",
        "#         tf.keras.layers.LSTM(units, activation='relu', return_sequences=True, input_shape=(w_size, 2)),\n",
        "#         tf.keras.layers.LSTM(units, activation='relu'),\n",
        "#         tf.keras.layers.Dense(2, activation='linear')])\n",
        "#     model.compile(optimizer=tf.keras.optimizers.SGD(learning_rate=0.0002, momentum=0.9),\n",
        "#                   loss='mse')\n",
        "#     model.summary()\n",
        "#     return model"
      ],
      "metadata": {
        "id": "n-9ZYz1S3jiv"
      },
      "execution_count": null,
      "outputs": []
    },
    {
      "cell_type": "code",
      "source": [
        "# model = model_lstm(window_size)\n",
        "\n",
        "# epochs = 120\n",
        "\n",
        "# model.fit(train_coor, epochs=epochs, verbose=1)"
      ],
      "metadata": {
        "id": "_0VUJuZ54Qn5"
      },
      "execution_count": null,
      "outputs": []
    },
    {
      "cell_type": "code",
      "source": [
        "# test_coor = test_data_preparation(coordinates, window_size=window_size, batch_size=batch_size)"
      ],
      "metadata": {
        "id": "wUQacVXzjTGB"
      },
      "execution_count": null,
      "outputs": []
    },
    {
      "cell_type": "code",
      "source": [
        "# for example in test_coor:\n",
        "#   print(example[0].numpy())\n",
        "#   print(example[1].numpy())\n",
        "#   break"
      ],
      "metadata": {
        "id": "csT_cBMSj5jk"
      },
      "execution_count": null,
      "outputs": []
    },
    {
      "cell_type": "code",
      "source": [
        "predicted_coor = model.predict(test_coor)"
      ],
      "metadata": {
        "id": "WuAw_7J9kQqZ"
      },
      "execution_count": null,
      "outputs": []
    },
    {
      "cell_type": "code",
      "source": [
        "type(predicted_coor)"
      ],
      "metadata": {
        "id": "n821au8HkuT5"
      },
      "execution_count": null,
      "outputs": []
    },
    {
      "cell_type": "code",
      "source": [
        "# # inverse transform\n",
        "# predicted_coor = scaler.inverse_transform(predicted_coor)"
      ],
      "metadata": {
        "id": "K_LkU7MtbZ3a"
      },
      "execution_count": null,
      "outputs": []
    },
    {
      "cell_type": "code",
      "source": [
        "# df_n = pd.DataFrame(predicted_coor, columns=('p_lat', 'p_lng'))\n",
        "# df_n['h'] = 0"
      ],
      "metadata": {
        "id": "V2ER3JFdla0P"
      },
      "execution_count": null,
      "outputs": []
    },
    {
      "cell_type": "code",
      "source": [
        "# df_n['p_lat'] = df_n['p_lat']+30\n",
        "# df_n['p_lng'] = df_n['p_lng']-89"
      ],
      "metadata": {
        "id": "BMlEUu1TDe2C"
      },
      "execution_count": null,
      "outputs": []
    },
    {
      "cell_type": "code",
      "source": [
        "# df_n.head(10)"
      ],
      "metadata": {
        "id": "DbFg1uyhnF5t"
      },
      "execution_count": null,
      "outputs": []
    },
    {
      "cell_type": "code",
      "source": [
        "# plt.plot(df_n['p_lng'], df_n['p_lat'], color='r')\n"
      ],
      "metadata": {
        "id": "j6ljWkj2D4Rq"
      },
      "execution_count": null,
      "outputs": []
    },
    {
      "cell_type": "code",
      "source": [
        "# len(df.lat)"
      ],
      "metadata": {
        "id": "ihNHk4Wn794b"
      },
      "execution_count": null,
      "outputs": []
    },
    {
      "cell_type": "code",
      "source": [
        "# ' Back to lag lng'\n",
        "# df_n['Predted_lat'], df_n['Predicted_lng'], _ = pm.enu2geodetic(df_n.p_lat, df_n.p_lng, df_n.h,\n",
        "#                                                                                   df.lat[index], df.lng[index],\n",
        "#                                                                                   df.h[index], ell=None, deg=True)"
      ],
      "metadata": {
        "id": "31jGD4uEnYlq"
      },
      "execution_count": null,
      "outputs": []
    },
    {
      "cell_type": "code",
      "source": [
        "# df_n.head(5)"
      ],
      "metadata": {
        "id": "lnYDBMfarHPD"
      },
      "execution_count": null,
      "outputs": []
    },
    {
      "cell_type": "code",
      "source": [
        "# plt.plot(df_n.Predicted_lng, df_n.Predted_lat, color='r', label=f'predicted, future:{future}')\n",
        "# plt.plot(lng, lat, label='Original')\n",
        "# plt.title(f'Window{window_size}')\n",
        "# plt.legend()\n",
        "# plt.show()"
      ],
      "metadata": {
        "id": "F9WvXy8-bn2-"
      },
      "execution_count": null,
      "outputs": []
    },
    {
      "cell_type": "code",
      "source": [
        "# plt.plot(lng, lat, label='y')"
      ],
      "metadata": {
        "id": "AfwjvaV1d6zY"
      },
      "execution_count": null,
      "outputs": []
    },
    {
      "cell_type": "code",
      "source": [
        "# plt.plot(df_n.Predicted_lng, df_n.Predted_lat, color='r', label=f'predicted, future:{future}')\n",
        "# plt.scatter(lng.iloc[len(lng)-1], lat.iloc[len(lng)-1], s=100)"
      ],
      "metadata": {
        "id": "bRbNr1FskAnc"
      },
      "execution_count": null,
      "outputs": []
    }
  ]
}